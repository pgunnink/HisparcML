{
  "nbformat": 4,
  "nbformat_minor": 0,
  "metadata": {
    "colab": {
      "name": "Kopie van Kascade.ipynb",
      "version": "0.3.2",
      "provenance": [],
      "collapsed_sections": [],
      "include_colab_link": true
    },
    "kernelspec": {
      "display_name": "Python 3",
      "language": "python",
      "name": "python3"
    },
    "accelerator": "GPU"
  },
  "cells": [
    {
      "cell_type": "markdown",
      "metadata": {
        "id": "view-in-github",
        "colab_type": "text"
      },
      "source": [
        "[View in Colaboratory](https://colab.research.google.com/github/pgunnink/HisparcML/blob/master/Example%20Jupyter%20Notebook.ipynb)"
      ]
    },
    {
      "metadata": {
        "id": "8FR0j-YSGXcd",
        "colab_type": "text"
      },
      "cell_type": "markdown",
      "source": [
        "Template with several analysis options\n",
        "\n"
      ]
    },
    {
      "metadata": {
        "id": "6ChPonJY3uiV",
        "colab_type": "text"
      },
      "cell_type": "markdown",
      "source": [
        "# Install dependecies and load data from Nikhef servers"
      ]
    },
    {
      "metadata": {
        "id": "E4cXB0L8h8DH",
        "colab_type": "code",
        "colab": {}
      },
      "cell_type": "code",
      "source": [
        "#!kill -9 -1 # uncomment this line to completely reboot the VM running this notebook, in case stuff starts to hang or something"
      ],
      "execution_count": 0,
      "outputs": []
    },
    {
      "metadata": {
        "id": "KtisQ59iqZLr",
        "colab_type": "text"
      },
      "cell_type": "markdown",
      "source": [
        "Eerst moeten er even dingen worden geïnstalleerd. `HisparcML` bevat de code om met de simulatiedata te werken, `process_kascade` is voor de Kascade data.  "
      ]
    },
    {
      "metadata": {
        "id": "xd7Qda3sGXcf",
        "colab_type": "code",
        "colab": {
          "base_uri": "https://localhost:8080/",
          "height": 145
        },
        "outputId": "9b57b2f6-63e3-49e5-b4b2-0da1c80c9aba"
      },
      "cell_type": "code",
      "source": [
        "# random installation stuff\n",
        "!pip uninstall -y HisparcML >> /dev/null\n",
        "!pip install git+https://github.com/pgunnink/HisparcML.git >> /dev/null\n",
        "!pip install tables >> /dev/null \n",
        "!pip install hisparc-sapphire >> /dev/null\n",
        "!rm -r ./process_kascade\n",
        "!git clone https://github.com/pgunnink/process_kascade\n",
        "!pip install tqdm\n"
      ],
      "execution_count": 1,
      "outputs": [
        {
          "output_type": "stream",
          "text": [
            "\u001b[33mSkipping HisparcML as it is not installed.\u001b[0m\n",
            "rm: cannot remove './process_kascade': No such file or directory\n",
            "Cloning into 'process_kascade'...\n",
            "remote: Enumerating objects: 25, done.\u001b[K\n",
            "remote: Total 25 (delta 0), reused 0 (delta 0), pack-reused 25\u001b[K\n",
            "Unpacking objects: 100% (25/25), done.\n",
            "Requirement already satisfied: tqdm in /usr/local/lib/python3.6/dist-packages (4.26.0)\n"
          ],
          "name": "stdout"
        }
      ]
    },
    {
      "metadata": {
        "id": "Jkm9IpsDsz9i",
        "colab_type": "code",
        "colab": {}
      },
      "cell_type": "code",
      "source": [
        "import matplotlib as mpl\n",
        "mpl.style.use('default')\n",
        "import sys\n",
        "from keras.engine.topology import Layer\n",
        "import scipy.stats as stats\n",
        "from keras.models import Sequential\n",
        "from keras.utils import HDF5Matrix\n",
        "import h5py\n",
        "from HisparcML.DegRad import *\n",
        "from HisparcML.ProcessData import read_sapphire_simulation\n",
        "from keras.layers import Conv2D, Input, Reshape, concatenate, Conv1D, Flatten, \\\n",
        "    Dense, PReLU, LSTM, Conv3D, SeparableConv2D, ELU, SeparableConv1D, Dropout, \\\n",
        "    BatchNormalization, LocallyConnected2D, MaxPooling2D, GlobalAveragePooling2D, \\\n",
        "    GlobalMaxPooling2D\n",
        "from keras.models import Model\n",
        "from keras.optimizers import Adam, SGD, Adamax, Nadam, RMSprop, Adadelta\n",
        "from keras.callbacks import TensorBoard,ReduceLROnPlateau,EarlyStopping\n",
        "from HisparcML.CustomMetrics import metric_degrees_difference\n",
        "import tensorflow as tf\n",
        "import keras.backend as K\n",
        "import matplotlib.pyplot as plt\n",
        "import importlib\n",
        "from process_kascade.ProcessData import process_kascade\n",
        "from tqdm import tqdm_notebook, tqdm\n",
        "from scipy import stats"
      ],
      "execution_count": 0,
      "outputs": []
    },
    {
      "metadata": {
        "id": "VnwEI5ChwtV0",
        "colab_type": "text"
      },
      "cell_type": "markdown",
      "source": [
        "Download data van de Hisparc servers (ik heb gewoon symlinks gemaakt vanuit /data/hisparc naar ~/public_html)"
      ]
    },
    {
      "metadata": {
        "id": "FcIaFGojGq2k",
        "colab_type": "code",
        "colab": {}
      },
      "cell_type": "code",
      "source": [
        "data_file = \"main_data_kascade.h5\"\n",
        "kascade_file = \"kascade.h5\"\n",
        "kascade_output = 'k_data.h5'\n",
        "N_stations = 1\n",
        "sim_output = 'simulated.h5'\n"
      ],
      "execution_count": 0,
      "outputs": []
    },
    {
      "metadata": {
        "id": "sk2guMl3F6ct",
        "colab_type": "code",
        "colab": {
          "base_uri": "https://localhost:8080/",
          "height": 72
        },
        "outputId": "03ef953f-5e43-415e-b890-fd63d9cc1d06"
      },
      "cell_type": "code",
      "source": [
        "!rm {data_file}\n",
        "!wget https://www.nikhef.nl/~pgunnink/Kascade/{data_file}"
      ],
      "execution_count": 9,
      "outputs": [
        {
          "output_type": "stream",
          "text": [
            "rm: cannot remove 'main_data_kascade.h5': No such file or directory\n",
            "\n",
            "Redirecting output to ‘wget-log’.\n"
          ],
          "name": "stdout"
        }
      ]
    },
    {
      "metadata": {
        "id": "1kpNvaQXHGw_",
        "colab_type": "code",
        "colab": {
          "base_uri": "https://localhost:8080/",
          "height": 72
        },
        "outputId": "b1a0e09f-ab15-4f40-d42e-902972791db6"
      },
      "cell_type": "code",
      "source": [
        "!rm {kascade_file}\n",
        "!wget https://www.nikhef.nl/~pgunnink/Kascade/{kascade_file}"
      ],
      "execution_count": 10,
      "outputs": [
        {
          "output_type": "stream",
          "text": [
            "rm: cannot remove 'kascade.h5': No such file or directory\n",
            "\n",
            "Redirecting output to ‘wget-log.1’.\n"
          ],
          "name": "stdout"
        }
      ]
    },
    {
      "metadata": {
        "id": "d3nseAJANku8",
        "colab_type": "text"
      },
      "cell_type": "markdown",
      "source": [
        "# Process Data"
      ]
    },
    {
      "metadata": {
        "id": "Y3vp47rqw77H",
        "colab_type": "text"
      },
      "cell_type": "markdown",
      "source": [
        "Dit is de preprocessing van de data. "
      ]
    },
    {
      "metadata": {
        "id": "-ttqaEc16YVc",
        "colab_type": "code",
        "colab": {
          "base_uri": "https://localhost:8080/",
          "height": 488
        },
        "outputId": "9e2d9916-5fce-4dcf-aeb1-53c09ba1c1f3"
      },
      "cell_type": "code",
      "source": [
        "process_kascade(kascade_file, kascade_output, std_timings=10.26)\n"
      ],
      "execution_count": 12,
      "outputs": [
        {
          "output_type": "stream",
          "text": [
            "100% (49783 of 49783) |##################| Elapsed Time: 0:02:55 Time:  0:02:55\n"
          ],
          "name": "stderr"
        },
        {
          "output_type": "stream",
          "text": [
            "Std of integrals: 0.3953438575465891\n",
            "Std of timings: 236.11724875595905\n"
          ],
          "name": "stdout"
        },
        {
          "output_type": "display_data",
          "data": {
            "image/png": "[encoded data removed]",
            "text/plain": [
              "<matplotlib.figure.Figure at 0x7f3de52d91d0>"
            ]
          },
          "metadata": {
            "tags": []
          }
        }
      ]
    },
    {
      "metadata": {
        "id": "LoP1wYEVxDzh",
        "colab_type": "text"
      },
      "cell_type": "markdown",
      "source": [
        "Hier kun je nog wat dingen aanpassen, zoals energie en triggers. Let op dat je wel traces opslaat, maar dat je die dus niet moet hebben, want je gaat vanuit de photontimes nog een keer traces maken."
      ]
    },
    {
      "metadata": {
        "id": "QAP1GvLBeZz5",
        "colab_type": "code",
        "colab": {
          "base_uri": "https://localhost:8080/",
          "height": 1450
        },
        "outputId": "8f15b823-c557-470a-c60c-c3813ad2d41d"
      },
      "cell_type": "code",
      "source": [
        "ENERGY_LOW = .9*10**14.5\n",
        "ENERGY_LOW = 0\n",
        "ENERGY_HIGH = 11**17\n",
        "read_sapphire_simulation(data_file, sim_output, N_stations,\n",
        "                             find_mips=True, uniform_dist=False, \n",
        "                             no_gamma_peak=False, trigger=3, trigger_max=4, energy_low=ENERGY_LOW, \n",
        "                             energy_high=ENERGY_HIGH, verbose=True,\n",
        "                             max_samples=1, CHUNK_SIZE=10**4, rossi_dist=False, skip_nonreconstructed=False, photontimes=True)"
      ],
      "execution_count": 14,
      "outputs": [
        {
          "output_type": "stream",
          "text": [
            "  5%|▌         | 22628/446742 [00:00<00:17, 24781.42it/s]"
          ],
          "name": "stderr"
        },
        {
          "output_type": "stream",
          "text": [
            "Writing chunk 1\n"
          ],
          "name": "stdout"
        },
        {
          "output_type": "stream",
          "text": [
            "  9%|▉         | 42058/446742 [00:01<00:16, 24188.17it/s]"
          ],
          "name": "stderr"
        },
        {
          "output_type": "stream",
          "text": [
            "Writing chunk 2\n"
          ],
          "name": "stdout"
        },
        {
          "output_type": "stream",
          "text": [
            " 13%|█▎        | 58838/446742 [00:02<00:15, 24467.77it/s]"
          ],
          "name": "stderr"
        },
        {
          "output_type": "stream",
          "text": [
            "Writing chunk 3\n"
          ],
          "name": "stdout"
        },
        {
          "output_type": "stream",
          "text": [
            " 18%|█▊        | 78549/446742 [00:03<00:15, 24525.68it/s]"
          ],
          "name": "stderr"
        },
        {
          "output_type": "stream",
          "text": [
            "Writing chunk 4\n"
          ],
          "name": "stdout"
        },
        {
          "output_type": "stream",
          "text": [
            " 21%|██▏       | 95356/446742 [00:03<00:17, 20224.69it/s]"
          ],
          "name": "stderr"
        },
        {
          "output_type": "stream",
          "text": [
            "Writing chunk 5\n"
          ],
          "name": "stdout"
        },
        {
          "output_type": "stream",
          "text": [
            " 26%|██▌       | 115191/446742 [00:04<00:13, 23921.40it/s]"
          ],
          "name": "stderr"
        },
        {
          "output_type": "stream",
          "text": [
            "Writing chunk 6\n"
          ],
          "name": "stdout"
        },
        {
          "output_type": "stream",
          "text": [
            " 30%|██▉       | 133901/446742 [00:05<00:13, 23238.10it/s]"
          ],
          "name": "stderr"
        },
        {
          "output_type": "stream",
          "text": [
            "Writing chunk 7\n"
          ],
          "name": "stdout"
        },
        {
          "output_type": "stream",
          "text": [
            " 34%|███▍      | 153530/446742 [00:06<00:12, 23850.69it/s]"
          ],
          "name": "stderr"
        },
        {
          "output_type": "stream",
          "text": [
            "Writing chunk 8\n"
          ],
          "name": "stdout"
        },
        {
          "output_type": "stream",
          "text": [
            " 38%|███▊      | 170867/446742 [00:06<00:10, 25136.47it/s]"
          ],
          "name": "stderr"
        },
        {
          "output_type": "stream",
          "text": [
            "Writing chunk 9\n"
          ],
          "name": "stdout"
        },
        {
          "output_type": "stream",
          "text": [
            " 42%|████▏     | 188421/446742 [00:07<00:13, 19703.74it/s]"
          ],
          "name": "stderr"
        },
        {
          "output_type": "stream",
          "text": [
            "Writing chunk 10\n"
          ],
          "name": "stdout"
        },
        {
          "output_type": "stream",
          "text": [
            " 47%|████▋     | 208578/446742 [00:08<00:10, 23812.35it/s]"
          ],
          "name": "stderr"
        },
        {
          "output_type": "stream",
          "text": [
            "Writing chunk 11\n"
          ],
          "name": "stdout"
        },
        {
          "output_type": "stream",
          "text": [
            " 51%|█████     | 227617/446742 [00:09<00:09, 23508.26it/s]"
          ],
          "name": "stderr"
        },
        {
          "output_type": "stream",
          "text": [
            "Writing chunk 12\n"
          ],
          "name": "stdout"
        },
        {
          "output_type": "stream",
          "text": [
            " 55%|█████▌    | 246975/446742 [00:09<00:08, 23654.41it/s]"
          ],
          "name": "stderr"
        },
        {
          "output_type": "stream",
          "text": [
            "Writing chunk 13\n"
          ],
          "name": "stdout"
        },
        {
          "output_type": "stream",
          "text": [
            " 60%|█████▉    | 266505/446742 [00:10<00:07, 24256.41it/s]"
          ],
          "name": "stderr"
        },
        {
          "output_type": "stream",
          "text": [
            "Writing chunk 14\n"
          ],
          "name": "stdout"
        },
        {
          "output_type": "stream",
          "text": [
            " 63%|██████▎   | 283051/446742 [00:11<00:07, 22321.19it/s]"
          ],
          "name": "stderr"
        },
        {
          "output_type": "stream",
          "text": [
            "Writing chunk 15\n"
          ],
          "name": "stdout"
        },
        {
          "output_type": "stream",
          "text": [
            " 68%|██████▊   | 302826/446742 [00:12<00:06, 22619.02it/s]"
          ],
          "name": "stderr"
        },
        {
          "output_type": "stream",
          "text": [
            "Writing chunk 16\n"
          ],
          "name": "stdout"
        },
        {
          "output_type": "stream",
          "text": [
            " 72%|███████▏  | 319465/446742 [00:12<00:06, 20588.29it/s]"
          ],
          "name": "stderr"
        },
        {
          "output_type": "stream",
          "text": [
            "Writing chunk 17\n"
          ],
          "name": "stdout"
        },
        {
          "output_type": "stream",
          "text": [
            " 77%|███████▋  | 342094/446742 [00:13<00:04, 21504.91it/s]"
          ],
          "name": "stderr"
        },
        {
          "output_type": "stream",
          "text": [
            "Writing chunk 18\n"
          ],
          "name": "stdout"
        },
        {
          "output_type": "stream",
          "text": [
            " 80%|████████  | 358269/446742 [00:14<00:03, 23250.14it/s]"
          ],
          "name": "stderr"
        },
        {
          "output_type": "stream",
          "text": [
            "Writing chunk 19\n"
          ],
          "name": "stdout"
        },
        {
          "output_type": "stream",
          "text": [
            " 85%|████████▍ | 377764/446742 [00:15<00:02, 23776.64it/s]"
          ],
          "name": "stderr"
        },
        {
          "output_type": "stream",
          "text": [
            "Writing chunk 20\n"
          ],
          "name": "stdout"
        },
        {
          "output_type": "stream",
          "text": [
            " 88%|████████▊ | 395046/446742 [00:15<00:02, 23527.05it/s]"
          ],
          "name": "stderr"
        },
        {
          "output_type": "stream",
          "text": [
            "Writing chunk 21\n"
          ],
          "name": "stdout"
        },
        {
          "output_type": "stream",
          "text": [
            " 93%|█████████▎| 414353/446742 [00:16<00:01, 23873.39it/s]"
          ],
          "name": "stderr"
        },
        {
          "output_type": "stream",
          "text": [
            "Writing chunk 22\n"
          ],
          "name": "stdout"
        },
        {
          "output_type": "stream",
          "text": [
            " 97%|█████████▋| 433944/446742 [00:17<00:00, 21924.82it/s]"
          ],
          "name": "stderr"
        },
        {
          "output_type": "stream",
          "text": [
            "Writing chunk 23\n"
          ],
          "name": "stdout"
        },
        {
          "output_type": "stream",
          "text": [
            "100%|██████████| 446742/446742 [00:17<00:00, 24969.69it/s]\n"
          ],
          "name": "stderr"
        },
        {
          "output_type": "stream",
          "text": [
            "Filling datasets 19.229778357000214\n",
            "Out of 446742 items 239143 remained\n",
            "mpv 134.44286559951084\n",
            "Finding MiP 19.67807916000038\n",
            "Std of integrals: 0.5496769\n",
            "Creating total_traces 22.891313362000346\n",
            "Std of timings: 10.363027\n",
            "Normalizing input_features 23.433466517000397\n",
            "Shuffling everything 30.78461354199999\n"
          ],
          "name": "stdout"
        },
        {
          "output_type": "display_data",
          "data": {
            "image/png": "[encoded data removed]",
            "text/plain": [
              "<matplotlib.figure.Figure at 0x7f3de4741550>"
            ]
          },
          "metadata": {
            "tags": []
          }
        },
        {
          "output_type": "display_data",
          "data": {
            "image/png": "[encoded data removed]",
            "text/plain": [
              "<matplotlib.figure.Figure at 0x7f3de48c8748>"
            ]
          },
          "metadata": {
            "tags": []
          }
        }
      ]
    },
    {
      "metadata": {
        "id": "IfQJm0a4b-Al",
        "colab_type": "code",
        "colab": {}
      },
      "cell_type": "code",
      "source": [
        "class PreProcPMT(Layer):\n",
        "    def __init__(self, **kwargs):\n",
        "        \"\"\"\n",
        "        Dit is dezelfde code als in PMT_tf.py uit HisparcML, alleen die uit PMT_tf.py is beter opgeruimd... \n",
        "        \"\"\"\n",
        "        self.GR = [10., 2.]\n",
        "        self.tau = np.array([7.419741616764922, 1.5])\n",
        "        #self.tau = np.array([7.419741616764922, 0.0001])\n",
        "        self.sigma = np.array([0.8, .06])\n",
        "        #self.sigma = np.array([0.39, .00001])*1.7\n",
        "        \n",
        "        self.chance_1 = 0.75\n",
        "\n",
        "        self.scale_1 = np.array([28.3/290., 10.6/290.]) # mean, std, as percentage of main peak size\n",
        "        self.loc_1 = np.array([21, 7]) \n",
        "        \n",
        "        self.chance_2 = 0.3\n",
        "\n",
        "        self.scale_2 = np.array([9./88., 6./88.])  # mean, std, as percentage of main peak size\n",
        "        self.loc_2 = np.array([32, 10]) \n",
        "        \n",
        "\n",
        "        super().__init__(**kwargs)\n",
        "    \n",
        "    def build(self, input_shape):\n",
        "        self.timings = tf.constant(np.arange(1.25, 80*2.5+1.25, 2.5), \n",
        "                                  dtype='float32', \n",
        "                                  shape=(80,), \n",
        "                                  name='timings_25_ns')\n",
        "        super().build(input_shape)\n",
        "    \n",
        "    def call(self, x):\n",
        "        x = tf.reshape(x, [-1,80])\n",
        "        batch_size = tf.shape(x)\n",
        "        #gain = tf.random_normal(batch_size, mean=self.GR[0], stddev=self.GR[1])\n",
        "        #t_x_scaled = tf.random_normal(batch_size, mean=self.tau[0], stddev=self.tau[1])/200\n",
        "\n",
        "        #ln = tf.log(self.timings/t_x_scaled)\n",
        "        #sigma = tf.random_normal(batch_size, mean=self.sigma[0], stddev=self.sigma[1])\n",
        "        #exp_scaled = tf.exp(-0.5*(ln/sigma)**2)\n",
        "        #exp_scaled = tf.expand_dims(exp_scaled, 0)\n",
        "        #exp_scaled = tf.tile(exp_scaled, (tf.shape(x)[0],1))\n",
        "\n",
        "        #total_constant_part = gain*exp_scaled\n",
        "\n",
        "        to_return = tf.zeros_like(x, dtype='float32')\n",
        "\n",
        "        x = tf.random_poisson(x*.25, [1])\n",
        "        x = x[0,:,:]\n",
        "\n",
        "        #shift_x = tf.random_poisson(x*self.afterpulse_chance, [1])\n",
        "        #shift_x = shift_x[0,:,:]\n",
        "        #shift_x = tf.to_int32(tf.round(shift_x))\n",
        "\n",
        "        def smear(traces, shift_mean, shift_std):\n",
        "            new_photontimes = np.zeros(traces.shape, dtype='float32')\n",
        "            for i, row in enumerate(traces):\n",
        "                for i_x, q in enumerate(row):\n",
        "                    for n in range(int(q)):\n",
        "                        shift = np.random.normal(shift_mean, shift_std)+i_x\n",
        "                        shift = int(shift)\n",
        "                        new_photontimes[i, shift] += 1\n",
        "            return new_photontimes\n",
        "\n",
        "        #shifted_photontimes = tf.py_func(smear, [shift_x, self.shift, self.shift_std], tf.float32)\n",
        "        #x = x + shifted_photontimes\n",
        "\n",
        "        i = tf.constant(0, dtype='int32')\n",
        "        condition = lambda i, x, exp_scaled: tf.less(i, 80)\n",
        "        loop_vars = [i, x, to_return]\n",
        "        \n",
        "        gain = tf.truncated_normal((batch_size[0],), mean=self.GR[0], stddev=self.GR[1])\n",
        "        gain = tf.expand_dims(gain, 0)\n",
        "        gain = tf.transpose(tf.tile(gain, (80,1)))\n",
        "        tau = tf.truncated_normal((batch_size[0],), mean=self.tau[0], stddev=self.tau[1])\n",
        "        t_x_scaled = tau\n",
        "        t_x_scaled = tf.expand_dims(t_x_scaled, 0)\n",
        "        t_x_scaled = tf.transpose(tf.tile(t_x_scaled, (80,1)))\n",
        "\n",
        "        ln = tf.log(self.timings/t_x_scaled)\n",
        "        \n",
        "        sigma = tf.truncated_normal((batch_size[0],), mean=self.sigma[0], stddev=self.sigma[1])\n",
        "        sigma = tf.expand_dims(sigma, 0)\n",
        "        sigma = tf.transpose(tf.tile(sigma, (80,1)))\n",
        "        exp_scaled = tf.exp(-0.5*(ln/sigma)**2)\n",
        "        \n",
        "        total_constant_part = gain*exp_scaled\n",
        "        def single_run_loop(i, x, to_return):\n",
        "            temp_x = tf.expand_dims(x[:,i],0)\n",
        "            temp_x = tf.tile(temp_x, (80,1))\n",
        "            temp_x = tf.transpose(temp_x)\n",
        "            result = temp_x * total_constant_part\n",
        "\n",
        "            paddings = tf.stack((tf.zeros(2, dtype='int32'),tf.stack((i, tf.constant(0, dtype='int32')))))\n",
        "            result = tf.pad(result, paddings, \"CONSTANT\")\n",
        "            to_return = to_return + result[:, :80]\n",
        "            i = i + 1\n",
        "            return i, x, to_return\n",
        "\n",
        "        _, _, res = tf.while_loop(condition, single_run_loop, loop_vars)\n",
        "        \n",
        "        def add_afterpulses(traces, chance, pos, scale, tau, sigma):\n",
        "            def first_rise(t):\n",
        "                for i, x in enumerate(t):\n",
        "                    if x > 0:\n",
        "                        return i\n",
        "                else:\n",
        "                    return None\n",
        "                    \n",
        "            def f(t, b, tau, sigma):\n",
        "                res = np.zeros(t.shape)\n",
        "                t_calc = t[t>b]\n",
        "                res[t>b] = np.exp(-.5*(np.log((t_calc-b)/tau)/sigma)**2)\n",
        "                return res\n",
        "                \n",
        "            def truncated_normal(mean, std):\n",
        "                a, b = (mean-2*std - mean) / std, (mean+2*std - mean) / std\n",
        "                x = stats.truncnorm(a, b, loc=mean, scale=std)\n",
        "                return x.rvs()\n",
        "\n",
        "            \n",
        "            new_traces = traces\n",
        "            for i, t in enumerate(traces):\n",
        "                if np.random.random_sample() < chance:\n",
        "                    beginning = first_rise(t)\n",
        "                    if beginning is not None:\n",
        "                        b_loc = truncated_normal(*pos) + beginning*2.5\n",
        "                        tau_loc = truncated_normal(*tau)\n",
        "                        sigma_loc = truncated_normal(*sigma)\n",
        "                        scale_loc = truncated_normal(*scale)\n",
        "                        \n",
        "                        a = f(np.linspace(1.25, 80*2.5+1.25, 80), b_loc, tau_loc, sigma_loc)\n",
        "                        t += scale_loc*np.max(t)*a\n",
        "                            \n",
        "                        new_traces[i, :] = t\n",
        "            return new_traces\n",
        "                    \n",
        "              \n",
        "        res_2 = tf.py_func(add_afterpulses, [res, self.chance_1, self.loc_1, self.scale_1, self.tau, self.sigma], tf.float32)\n",
        "        \n",
        "        #res_3 = tf.py_func(add_afterpulses, [res, self.chance_2, self.loc_2, self.scale_2, self.tau, self.sigma], tf.float32)\n",
        "        final_res = res_2 + tf.random_normal(tf.shape(res),0,1.8)\n",
        "        \n",
        "        \n",
        "        return tf.reshape(final_res, [-1,4,80])\n",
        "        \n",
        "    def compute_output_shape(self, input_shape):\n",
        "        return input_shape"
      ],
      "execution_count": 0,
      "outputs": []
    },
    {
      "metadata": {
        "id": "kiG7UnwGxuR4",
        "colab_type": "text"
      },
      "cell_type": "markdown",
      "source": [
        "Lees nu de data in met `HDF5Matrix`, dat is een wrapper van Keras die direct een h5py dataset inleest en kan gebruiken als input. Ook zet ik de cartesische coordinaten om in zenith en azimuth voor later"
      ]
    },
    {
      "metadata": {
        "id": "htJnO5o6GXcp",
        "colab_type": "code",
        "colab": {}
      },
      "cell_type": "code",
      "source": [
        "with h5py.File(sim_output, 'r') as f:\n",
        "    length_dataset = f['traces'].len() # assuming everything is the same length\n",
        "    f.close()\n",
        "\n",
        "\n",
        "sample_split = int(length_dataset*0.9)\n",
        "photontimes_test = HDF5Matrix(sim_output, 'photontimes', start=sample_split+1, end=length_dataset )\n",
        "\n",
        "labels_test = HDF5Matrix(sim_output, 'labels', start=sample_split+1, end=length_dataset)\n",
        "traces_train = HDF5Matrix(sim_output, 'traces', start=0, end=sample_split)\n",
        "labels_train = HDF5Matrix(sim_output, 'labels', start=0, end=sample_split)\n",
        "photontimes_train = HDF5Matrix(sim_output, 'photontimes', start=0, end=sample_split)\n",
        "input_features_train = HDF5Matrix(sim_output, 'input_features', start=0, end=sample_split)\n",
        "mips_test = HDF5Matrix(sim_output, 'mips', start=sample_split+1, end=length_dataset)\n",
        "rec_z_test = HDF5Matrix(sim_output, 'rec_z', start=sample_split+1, end=length_dataset)\n",
        "rec_a_test = HDF5Matrix(sim_output, 'rec_a', start=sample_split+1, end=length_dataset)\n",
        "\n",
        "energies_test = HDF5Matrix(sim_output, 'energies', start=sample_split+1, end=length_dataset)\n",
        "energies_train = HDF5Matrix(sim_output, 'energies', start=0, end=sample_split)\n",
        "\n",
        "c_distance_test = HDF5Matrix(sim_output, 'core_distance', start=sample_split+1, end=length_dataset)\n",
        "c_distance_train = HDF5Matrix(sim_output, 'core_distance', start=0, end=sample_split)\n",
        "\n",
        "\n",
        "# process sapphire angles to cartesion\n",
        "x_rec,y_rec,z_rec = azimuth_zenith_to_cartestian(rec_z_test[:],rec_a_test[:])\n",
        "sapphire_reconstruction = np.concatenate((x_rec.reshape(-1,1),y_rec.reshape(-1,1),z_rec.reshape(-1,1)),axis=1)\n",
        "\n",
        "N_detectors = N_stations*4\n",
        "length_trace = 80\n",
        "features = 2"
      ],
      "execution_count": 0,
      "outputs": []
    },
    {
      "metadata": {
        "id": "xGYd2cnvLmcS",
        "colab_type": "code",
        "colab": {}
      },
      "cell_type": "code",
      "source": [
        "z_sapphire, a_sapphire = cartestian_to_azimuth_zenith(sapphire_reconstruction[:,0], sapphire_reconstruction[:,1], sapphire_reconstruction[:,2])\n"
      ],
      "execution_count": 0,
      "outputs": []
    },
    {
      "metadata": {
        "id": "WPrJnLKMgIiJ",
        "colab_type": "text"
      },
      "cell_type": "markdown",
      "source": [
        "# Processing Kascade Files"
      ]
    },
    {
      "metadata": {
        "id": "9A_yKVrjyMoc",
        "colab_type": "text"
      },
      "cell_type": "markdown",
      "source": [
        "Lees Kascade in"
      ]
    },
    {
      "metadata": {
        "id": "ezZhnhOAv5cf",
        "colab_type": "code",
        "colab": {}
      },
      "cell_type": "code",
      "source": [
        "kascade_traces = HDF5Matrix(kascade_output, 'traces')\n",
        "kascade_input_features = HDF5Matrix(kascade_output, 'input_features')\n",
        "kascade_labels = HDF5Matrix(kascade_output, 'labels')\n",
        "kascade_zenith = HDF5Matrix(kascade_output, 'zenith')\n",
        "kascade_azimuth = HDF5Matrix(kascade_output, 'azimuth')\n",
        "kascade_zenith_rec = HDF5Matrix(kascade_output, 'rec_z')\n",
        "kascade_azimuth_rec = HDF5Matrix(kascade_output, 'rec_a')\n",
        "\n",
        "x_rec,y_rec,z_rec = azimuth_zenith_to_cartestian(kascade_zenith_rec[:],kascade_azimuth_rec[:])\n",
        "kascade_sapphire_reconstruction = np.concatenate((x_rec.reshape(-1,1),y_rec.reshape(-1,1),z_rec.reshape(-1,1)),axis=1)"
      ],
      "execution_count": 0,
      "outputs": []
    },
    {
      "metadata": {
        "id": "t8QIzq1cyOZh",
        "colab_type": "text"
      },
      "cell_type": "markdown",
      "source": [
        "Creeer de traces (dit duurt dus ongeveer 25 minuten voor 200,000 events)"
      ]
    },
    {
      "metadata": {
        "id": "uIKnTcORVojs",
        "colab_type": "code",
        "colab": {
          "base_uri": "https://localhost:8080/",
          "height": 54
        },
        "outputId": "d17c1238-d0c3-4da5-b783-c3eb153e58c3"
      },
      "cell_type": "code",
      "source": [
        "from keras.models import Sequential\n",
        "\n",
        "determine_mip = Sequential([\n",
        "    PreProcPMT(input_shape=(4,80))\n",
        "])\n",
        "print(photontimes_train[:].shape)\n",
        "traces_train = determine_mip.predict(photontimes_train, verbose=1, batch_size=2**8)\n",
        "traces_test = determine_mip.predict(photontimes_test, verbose=1, batch_size=2**8)"
      ],
      "execution_count": 0,
      "outputs": [
        {
          "output_type": "stream",
          "text": [
            "(215228, 4, 80)\n",
            " 22016/215228 [==>...........................] - ETA: 25:46"
          ],
          "name": "stdout"
        }
      ]
    },
    {
      "metadata": {
        "id": "OmUwswNnX76k",
        "colab_type": "code",
        "colab": {}
      },
      "cell_type": "code",
      "source": [
        "def first_rise(t, treshold=30):\n",
        "  for i, x in enumerate(t):\n",
        "    if x > treshold:\n",
        "      return i"
      ],
      "execution_count": 0,
      "outputs": []
    },
    {
      "metadata": {
        "id": "3m2I9HhiyaFq",
        "colab_type": "text"
      },
      "cell_type": "markdown",
      "source": [
        "Lees de nieuwe timings in en reken de pulseintegraal uit"
      ]
    },
    {
      "metadata": {
        "id": "AJ4oiZ5x8hwL",
        "colab_type": "code",
        "colab": {}
      },
      "cell_type": "code",
      "source": [
        "def generate_features(traces):\n",
        "  timings = np.zeros(traces.shape[0:2])\n",
        "  for i, station in enumerate(tqdm(traces)):\n",
        "    for j, t in enumerate(station):\n",
        "      t0 = first_rise(t, treshold=30)\n",
        "      if t0 is None:\n",
        "        #traces_unscaled[i,j,:] = 0\n",
        "        timings[i,j] = np.nan\n",
        "      else:\n",
        "        timings[i,j] = t0*2.5\n",
        "  timings -= np.nanmean(timings,axis=1)[:,np.newaxis]\n",
        "  print('Std of timings: %s' % np.nanstd(timings))\n",
        "  timings /= np.nanstd(timings)\n",
        "  timings[np.isnan(timings)] = 0.\n",
        "\n",
        "  total_traces = np.sum(np.abs(traces[:]) / 281, axis=2)\n",
        "  total_traces = np.log10(total_traces+1)\n",
        "  total_traces -= np.mean(total_traces, axis=1)[:, np.newaxis]\n",
        "  print(\"Std of integrals: %s\" % np.std(total_traces))\n",
        "  total_traces /= np.std(total_traces)\n",
        "\n",
        "  input_features = np.stack((timings,total_traces),axis=2)\n",
        "  return input_features"
      ],
      "execution_count": 0,
      "outputs": []
    },
    {
      "metadata": {
        "id": "SwyJlTBvyii1",
        "colab_type": "text"
      },
      "cell_type": "markdown",
      "source": [
        "Schaal de traces met de MIP-peak en pak de log-transform"
      ]
    },
    {
      "metadata": {
        "id": "98tB-awQ0zV_",
        "colab_type": "code",
        "colab": {
          "base_uri": "https://localhost:8080/",
          "height": 561
        },
        "outputId": "dcd8ba99-4875-48aa-85e3-4eb1b5206c4c"
      },
      "cell_type": "code",
      "source": [
        "input_features_test = generate_features(traces_test)\n",
        "input_features_train = generate_features(traces_train)\n",
        "h,bins,_ = plt.hist(np.max(traces_train.reshape((-1,80)), axis=1), bins=np.linspace(100,1000,100))\n",
        "mip_peak = bins[np.argmax(h)]\n",
        "print(mip_peak)\n",
        "traces_train = np.log10(traces_train/mip_peak+1)\n",
        "traces_test = np.log10(traces_test/mip_peak+1)\n",
        "\n",
        "\n",
        "rec_z_train = HDF5Matrix(sim_output, 'rec_z', start=0, end=sample_split)\n",
        "rec_a_train = HDF5Matrix(sim_output, 'rec_a', start=0, end=sample_split)\n",
        "\n",
        "x_rec,y_rec,z_rec = azimuth_zenith_to_cartestian(rec_z_train[:],rec_a_train[:])\n",
        "sapphire_reconstruction_train = np.concatenate((x_rec.reshape(-1,1),y_rec.reshape(-1,1),z_rec.reshape(-1,1)),axis=1)"
      ],
      "execution_count": 28,
      "outputs": [
        {
          "output_type": "stream",
          "text": [
            "100%|██████████| 23914/23914 [00:05<00:00, 4708.26it/s]\n",
            "  0%|          | 358/215228 [00:00<01:00, 3573.78it/s]"
          ],
          "name": "stderr"
        },
        {
          "output_type": "stream",
          "text": [
            "Std of timings: 8.502426453047834\n",
            "Std of integrals: 0.490379\n"
          ],
          "name": "stdout"
        },
        {
          "output_type": "stream",
          "text": [
            "100%|██████████| 215228/215228 [00:46<00:00, 4608.04it/s]\n"
          ],
          "name": "stderr"
        },
        {
          "output_type": "stream",
          "text": [
            "Std of timings: 8.549423909701067\n",
            "Std of integrals: 0.49124208\n",
            "318.1818181818182\n"
          ],
          "name": "stdout"
        },
        {
          "output_type": "display_data",
          "data": {
            "image/png": "[encoded data removed]",
            "text/plain": [
              "<matplotlib.figure.Figure at 0x7f3de48877f0>"
            ]
          },
          "metadata": {
            "tags": []
          }
        }
      ]
    },
    {
      "metadata": {
        "id": "J5cRhedmgXP3",
        "colab_type": "text"
      },
      "cell_type": "markdown",
      "source": [
        "# Training model\n",
        "\n",
        "Dit is het model dat ik gebruik, dit staat ook in `KerasModel`.py in `HisparcML`"
      ]
    },
    {
      "metadata": {
        "id": "uJXG_l3cJmRx",
        "colab_type": "code",
        "colab": {}
      },
      "cell_type": "code",
      "source": [
        "from keras.layers import Permute, MaxPooling2D, LocallyConnected2D, AveragePooling2D, GlobalAveragePooling2D\n",
        "def baseModelComplicated():\n",
        "    '''\n",
        "    The basic model as described by https://arxiv.org/pdf/1708.00647.pdf, but flattened\n",
        "    out\n",
        "    '''\n",
        "    N_stations = 1\n",
        "    input_traces = Input(shape=(N_stations * 4, length_trace), dtype='float32',\n",
        "                         name='trace_input')\n",
        "    reshape_traces = Reshape((N_stations * 4, length_trace, 1))(input_traces)\n",
        "    input_metadata = Input(shape=(N_stations * 4, features), dtype='float32',\n",
        "                           name='metadata_input')\n",
        "\n",
        "\n",
        "    Trace_1 = Conv2D(64, (1, 3), strides=(1, 2), padding='valid',\n",
        "                   activation='relu', data_format='channels_last',\n",
        "                   kernel_initializer='he_normal')(reshape_traces)\n",
        "    Trace_1 = Conv2D(128, (1, 3), strides=(1, 2), padding='valid',\n",
        "                   activation='relu', data_format='channels_last',\n",
        "                   kernel_initializer='he_normal')(Trace_1)\n",
        "    Trace_1_conv = Conv2D(128, (1, 3), strides=(1, 1), padding='valid',\n",
        "                   activation='relu', kernel_initializer='he_normal')(Trace_1)\n",
        "    MaxPool1 = MaxPooling2D(pool_size=(1, 3), strides=(1,1), padding='valid')(Trace_1)\n",
        "    \n",
        "    combined = concatenate([MaxPool1, Trace_1_conv])\n",
        "    \n",
        "    Trace_1 = Conv2D(64, (1, 1), strides=(1, 1), padding='valid',\n",
        "                   activation='relu', kernel_initializer='he_normal')(combined)\n",
        "    Trace_1 = Conv2D(128, (1, 3), strides=(1, 1), padding='valid',\n",
        "                   activation='relu', kernel_initializer='he_normal')(Trace_1)\n",
        "    \n",
        "    Trace_2 = Conv2D(32, (1, 1), strides=(1, 1), padding='valid',\n",
        "                   activation='relu', kernel_initializer='he_normal')(combined)\n",
        "    Trace_2 = Conv2D(64, (1, 7), strides=(1, 1), padding='same',\n",
        "                   activation='relu', kernel_initializer='he_normal')(Trace_2)\n",
        "    Trace_2 = Conv2D(128, (1, 3), strides=(1, 1), padding='valid',\n",
        "                   activation='relu', kernel_initializer='he_normal')(Trace_2)\n",
        "    \n",
        "    combined_2 = concatenate([Trace_1, Trace_2])\n",
        "    MaxPool2 = MaxPooling2D(pool_size=(1, 3), strides=(1,1))(combined_2)\n",
        "    Trace_3 = Conv2D(64, (1, 3), strides=(1, 1), padding='valid',\n",
        "                   activation='relu', kernel_initializer='he_normal')(combined_2)\n",
        "    combined_3 = concatenate([MaxPool2, Trace_3])\n",
        "    \n",
        "    \n",
        "    avg_pooling = AveragePooling2D(pool_size=(1, 3), strides=(1,1), padding='same')(combined_3)\n",
        "    avg_pooling = Conv2D(64, (1, 1), strides=(1, 1), padding='same',\n",
        "                   activation='relu', kernel_initializer='he_normal')(avg_pooling)\n",
        "    \n",
        "    path_1 = Conv2D(64, (1, 1), strides=(1, 1), padding='valid',\n",
        "                   activation='relu', kernel_initializer='he_normal')(combined_3)\n",
        "    \n",
        "    path_2 = Conv2D(100, (1, 1), strides=(1, 1), padding='valid',\n",
        "                   activation='relu', kernel_initializer='he_normal')(combined_3)\n",
        "    path_2 = Conv2D(55, (1, 3), strides=(1, 1), padding='same',\n",
        "                   activation='relu', kernel_initializer='he_normal')(path_2)\n",
        "    \n",
        "    path_3 = Conv2D(32, (1, 1), strides=(1, 1), padding='valid',\n",
        "                   activation='relu', kernel_initializer='he_normal')(combined_3)\n",
        "    path_3 = Conv2D(45, (1, 3), strides=(1, 1), padding='same',\n",
        "                   activation='relu', kernel_initializer='he_normal')(path_3)\n",
        "    path_3 = Conv2D(80, (1, 3), strides=(1, 1), padding='same',\n",
        "                   activation='relu', kernel_initializer='he_normal')(path_3)\n",
        "    \n",
        "    result = concatenate([path_1, path_2, path_3, avg_pooling])\n",
        "    \"\"\"\n",
        "    maxpool1 = MaxPooling2D(pool_size=(1,3), strides=(1,2))(result)\n",
        "    conv_1 = Conv2D(32, (1, 3), strides=(1, 2), padding='valid',\n",
        "                   activation='relu', kernel_initializer='he_normal')(result)\n",
        "    block_1 = Conv2D(80, (1, 1), strides=(1, 1), padding='same',\n",
        "                   activation='relu', kernel_initializer='he_normal')(result)\n",
        "    block_1 = Conv2D(40, (1, 3), strides=(1, 1), padding='same',\n",
        "                   activation='relu', kernel_initializer='he_normal')(block_1)\n",
        "    block_1 = Conv2D(32, (1, 3), strides=(1, 2), padding='valid',\n",
        "                   activation='relu', kernel_initializer='he_normal')(block_1)\n",
        "    \n",
        "    result = concatenate([maxpool1, conv_1, block_1])\n",
        "    \n",
        "    avg_pooling = AveragePooling2D(pool_size=(1, 3), strides=(1,1), padding='same')(result)\n",
        "    avg_pooling = Conv2D(64, (1, 1), strides=(1, 1), padding='same',\n",
        "                   activation='relu', kernel_initializer='he_normal')(avg_pooling)\n",
        "    \n",
        "    \n",
        "    \n",
        "    path_1 = Conv2D(128, (1, 1), strides=(1, 1), padding='valid',\n",
        "                   activation='relu', kernel_initializer='he_normal')(result)\n",
        "    \n",
        "    path_2 = Conv2D(64, (1, 1), strides=(1, 1), padding='valid',\n",
        "                   activation='relu', kernel_initializer='he_normal')(result)\n",
        "    path_2 = Conv2D(128, (1, 7), strides=(1, 1), padding='same',\n",
        "                   activation='relu', kernel_initializer='he_normal')(path_2)\n",
        "    \n",
        "    path_3 = Conv2D(20, (1, 1), strides=(1, 1), padding='valid',\n",
        "                   activation='relu', kernel_initializer='he_normal')(result)\n",
        "    path_3 = Conv2D(30, (1, 7), strides=(1, 1), padding='same',\n",
        "                   activation='relu', kernel_initializer='he_normal')(path_3)\n",
        "    path_3 = Conv2D(100, (1, 7), strides=(1, 1), padding='same',\n",
        "                   activation='relu', kernel_initializer='he_normal')(path_3)\n",
        "    \n",
        "    result = concatenate([path_1, path_2, path_3, avg_pooling])\n",
        "    \n",
        "    path_1 = Conv2D(64, (1, 1), strides=(1, 1), padding='valid',\n",
        "                   activation='relu', kernel_initializer='he_normal')(result)\n",
        "    \n",
        "    path_2 = Conv2D(64, (1, 1), strides=(1, 1), padding='valid',\n",
        "                   activation='relu', kernel_initializer='he_normal')(result)\n",
        "    path_2 = Conv2D(128, (1, 7), strides=(1, 1), padding='same',\n",
        "                   activation='relu', kernel_initializer='he_normal')(path_2)\n",
        "    \n",
        "    path_3 = Conv2D(32, (1, 1), strides=(1, 1), padding='valid',\n",
        "                   activation='relu', kernel_initializer='he_normal')(result)\n",
        "    path_3 = Conv2D(64, (1, 7), strides=(1, 1), padding='same',\n",
        "                   activation='relu', kernel_initializer='he_normal')(path_3)\n",
        "    path_3 = Conv2D(80, (1, 7), strides=(1, 1), padding='same',\n",
        "                   activation='relu', kernel_initializer='he_normal')(path_3)\n",
        "    avg_pooling = AveragePooling2D(pool_size=(1, 3), strides=(1,1), padding='same')(result)\n",
        "    avg_pooling = Conv2D(64, (1, 1), strides=(1, 1), padding='same',\n",
        "                   activation='relu', kernel_initializer='he_normal')(avg_pooling)\n",
        "    result = concatenate([path_1, path_2, path_3, avg_pooling])\n",
        "    result = Conv2D(10, (1,1), strides=(1,1), padding='valid',\n",
        "                   activation='relu', kernel_initializer='he_normal')(result)\n",
        "    result = AveragePooling2D(pool_size=(1, 14))(result)\n",
        "    \"\"\"\n",
        "    TraceResult = Reshape((4, -1))(result)\n",
        "    input_labels = Input(shape=(3,), dtype='float32')\n",
        "    x = concatenate([TraceResult, input_metadata])\n",
        "    \n",
        "    x = Flatten()(x)\n",
        "    x = Dropout(0.2)(x)\n",
        "    x = Dense(100, kernel_initializer='he_normal', activation='relu')(x)\n",
        "    x = Dense(50, kernel_initializer='he_normal', activation='relu')(x)\n",
        "    \n",
        "    #x = Flatten()(x)\n",
        "    \n",
        "    \n",
        "    \n",
        "    #x = concatenate([input_labels, x])\n",
        "    Output = Dense(3)(x)\n",
        "    \n",
        "    model = Model(inputs=[input_traces, input_metadata], outputs=Output)\n",
        "\n",
        "    \n",
        "    A = Adam(lr=0.001)\n",
        "    model.compile(optimizer=A, loss='mse', metrics=[metric_degrees_difference])\n",
        "\n",
        "    return model\n",
        "model = baseModelComplicated()\n",
        "model.summary()"
      ],
      "execution_count": 0,
      "outputs": []
    },
    {
      "metadata": {
        "id": "kixNtnD6zYb0",
        "colab_type": "text"
      },
      "cell_type": "markdown",
      "source": [
        "Dit is de daadwerkelijke training\n",
        "\n",
        "Er zijn twee lijnen gecomment, deze kun je gebruiken om core distance en energie mee te trainen.\n",
        "\n"
      ]
    },
    {
      "metadata": {
        "id": "NLQCce0DHb1a",
        "colab_type": "code",
        "colab": {
          "base_uri": "https://localhost:8080/",
          "height": 926
        },
        "outputId": "c4626468-0b57-41ed-f620-8f077509bdd8"
      },
      "cell_type": "code",
      "source": [
        "from keras.optimizers import *\n",
        "from keras.callbacks import LearningRateScheduler\n",
        "\n",
        "def new_lr(epoch, lr):\n",
        "  return 0.95*lr\n",
        "reduce_lr = ReduceLROnPlateau(monitor='val_loss', factor=0.5, patience=5, min_lr=0.00001, verbose=1)\n",
        "early_stop = EarlyStopping(monitor='val_loss', patience=0)\n",
        "\n",
        "# \n",
        "\n",
        "\n",
        "\n",
        "\n",
        "\n",
        "EPOCHS = 50\n",
        "\n",
        "# Dit is voor richting reconstructie\n",
        "model.fit([traces_train[:], input_features_train[:]], labels_train[:], batch_size = 2**8, callbacks=[LearningRateScheduler(new_lr, verbose=1), early_stop], verbose=1, epochs=EPOCHS, shuffle='batch', validation_split = 0.1)\n",
        "\n",
        "# dit is voor core distance\n",
        "#model.fit([traces_train[:][idx], input_features_train[:], c_distance_train[:], batch_size = 2**8, callbacks=[LearningRateScheduler(new_lr, verbose=1), early_stop], verbose=1, epochs=EPOCHS, shuffle='batch', validation_split = 0.1)\n",
        "\n",
        "# dit is voor energie reconstructie\n",
        "#model.fit([traces_train[:], input_features_train[:]], np.log10(energies_train[:]), batch_size = 2**8, callbacks=[LearningRateScheduler(new_lr, verbose=1), early_stop], verbose=1, epochs=EPOCHS, shuffle='batch', validation_split = 0.1)"
      ],
      "execution_count": 33,
      "outputs": [
        {
          "output_type": "stream",
          "text": [
            "Train on 193705 samples, validate on 21523 samples\n",
            "Epoch 1/50\n",
            "\n",
            "Epoch 00001: LearningRateScheduler reducing learning rate to 0.0009500000451225787.\n",
            "193705/193705 [==============================] - 61s 315us/step - loss: 0.0363 - metric_degrees_difference: 16.1838 - val_loss: 0.0308 - val_metric_degrees_difference: 15.1583\n",
            "Epoch 2/50\n",
            "\n",
            "Epoch 00002: LearningRateScheduler reducing learning rate to 0.0009025000152178108.\n",
            "193705/193705 [==============================] - 58s 301us/step - loss: 0.0311 - metric_degrees_difference: 15.2077 - val_loss: 0.0301 - val_metric_degrees_difference: 15.0056\n",
            "Epoch 3/50\n",
            "\n",
            "Epoch 00003: LearningRateScheduler reducing learning rate to 0.0008573750033974647.\n",
            "193705/193705 [==============================] - 58s 299us/step - loss: 0.0305 - metric_degrees_difference: 15.0353 - val_loss: 0.0301 - val_metric_degrees_difference: 15.0003\n",
            "Epoch 4/50\n",
            "\n",
            "Epoch 00004: LearningRateScheduler reducing learning rate to 0.0008145062311086804.\n",
            "193705/193705 [==============================] - 58s 299us/step - loss: 0.0301 - metric_degrees_difference: 14.9152 - val_loss: 0.0298 - val_metric_degrees_difference: 14.8763\n",
            "Epoch 5/50\n",
            "\n",
            "Epoch 00005: LearningRateScheduler reducing learning rate to 0.0007737808919046074.\n",
            "193705/193705 [==============================] - 58s 299us/step - loss: 0.0299 - metric_degrees_difference: 14.8508 - val_loss: 0.0295 - val_metric_degrees_difference: 14.8133\n",
            "Epoch 6/50\n",
            "\n",
            "Epoch 00006: LearningRateScheduler reducing learning rate to 0.000735091819660738.\n",
            "193705/193705 [==============================] - 58s 299us/step - loss: 0.0296 - metric_degrees_difference: 14.7676 - val_loss: 0.0294 - val_metric_degrees_difference: 14.7401\n",
            "Epoch 7/50\n",
            "\n",
            "Epoch 00007: LearningRateScheduler reducing learning rate to 0.0006983372120885178.\n",
            "193705/193705 [==============================] - 58s 300us/step - loss: 0.0294 - metric_degrees_difference: 14.7196 - val_loss: 0.0292 - val_metric_degrees_difference: 14.6453\n",
            "Epoch 8/50\n",
            "\n",
            "Epoch 00008: LearningRateScheduler reducing learning rate to 0.0006634203542489559.\n",
            "193705/193705 [==============================] - 58s 299us/step - loss: 0.0292 - metric_degrees_difference: 14.6585 - val_loss: 0.0292 - val_metric_degrees_difference: 14.6789\n",
            "Epoch 9/50\n",
            "\n",
            "Epoch 00009: LearningRateScheduler reducing learning rate to 0.0006302493420662358.\n",
            "193705/193705 [==============================] - 58s 299us/step - loss: 0.0290 - metric_degrees_difference: 14.5998 - val_loss: 0.0291 - val_metric_degrees_difference: 14.5872\n",
            "Epoch 10/50\n",
            "\n",
            "Epoch 00010: LearningRateScheduler reducing learning rate to 0.0005987368611386045.\n",
            "193705/193705 [==============================] - 58s 299us/step - loss: 0.0289 - metric_degrees_difference: 14.5553 - val_loss: 0.0291 - val_metric_degrees_difference: 14.6638\n",
            "Epoch 11/50\n",
            "\n",
            "Epoch 00011: LearningRateScheduler reducing learning rate to 0.0005688000208465382.\n",
            "193705/193705 [==============================] - 58s 298us/step - loss: 0.0286 - metric_degrees_difference: 14.4796 - val_loss: 0.0290 - val_metric_degrees_difference: 14.6004\n",
            "Epoch 12/50\n",
            "\n",
            "Epoch 00012: LearningRateScheduler reducing learning rate to 0.0005403600225690752.\n",
            "193705/193705 [==============================] - 58s 299us/step - loss: 0.0284 - metric_degrees_difference: 14.4149 - val_loss: 0.0291 - val_metric_degrees_difference: 14.5956\n"
          ],
          "name": "stdout"
        },
        {
          "output_type": "execute_result",
          "data": {
            "text/plain": [
              "<keras.callbacks.History at 0x7f3de4911160>"
            ]
          },
          "metadata": {
            "tags": []
          },
          "execution_count": 33
        }
      ]
    },
    {
      "metadata": {
        "id": "_9K4inM_0EnV",
        "colab_type": "text"
      },
      "cell_type": "markdown",
      "source": [
        "Doe de voorspelling op de test set (alles heeft hier een `[idx]`, omdat je dan makkelijk alleen de events kan selecteren waar Sapphire kon reconstrueren, maar als je alles wilt hebben moet je dus even `idx = np.ones(len(traces_test), dtype=bool)` doen)"
      ]
    },
    {
      "metadata": {
        "id": "HLMXjXqqrAm0",
        "colab_type": "code",
        "colab": {
          "base_uri": "https://localhost:8080/",
          "height": 35
        },
        "outputId": "f1c7bfe3-2deb-410e-b9f1-854e04419b07"
      },
      "cell_type": "code",
      "source": [
        "idx = np.ones(len(traces_test), dtype=bool)\n",
        "model_prediction = model.predict([traces_test[idx], input_features_test[idx]], batch_size=2**12, verbose=1)\n"
      ],
      "execution_count": 34,
      "outputs": [
        {
          "output_type": "stream",
          "text": [
            "23914/23914 [==============================] - 4s 151us/step\n"
          ],
          "name": "stdout"
        }
      ]
    },
    {
      "metadata": {
        "id": "IiCkZ2Bx0rUf",
        "colab_type": "text"
      },
      "cell_type": "markdown",
      "source": [
        "Deze code heeft alleen zin als je core distance of energie hebt voorspelt"
      ]
    },
    {
      "metadata": {
        "id": "voRKp4IZhaOz",
        "colab_type": "code",
        "colab": {}
      },
      "cell_type": "code",
      "source": [
        "res = model_prediction[:,0]-c_distance_test[:]\n",
        "#res = model_prediction[:,0]-np.log10(energies_test[:])\n",
        "print(np.std(res))\n",
        "plt.hist(res, histtype='step', label='prediction')\n",
        "#random_res = model_prediction[:,0] - np.random.permutation(np.log10(energies_test[:]))\n",
        "random_res = model_prediction[:,0] - np.random.permutation(c_distance_test[:])\n",
        "print(np.std(random_res))\n",
        "plt.hist(random_res, histtype='step', label='random')\n",
        "plt.legend()"
      ],
      "execution_count": 0,
      "outputs": []
    },
    {
      "metadata": {
        "id": "x7fM6mZB0yWg",
        "colab_type": "text"
      },
      "cell_type": "markdown",
      "source": [
        "Vanaf nu is het alleen voor richting reconstructie. Eigenlijk is de code nu 1 grote chaos en ik denk niet dat je er heel veel aan hebt :) Het is alleen maar plaatjes maken vanaf nu. Wat misschien nog interessant is hoe je die error terugschaalt, dat deed ik met: `dist/(2*np.pi*(np.sin(bins)))`, met `dist` en `bins` gewoon de outputs van een `np.histogram` van de fout.  \n",
        "\n",
        "Verder maakt de code vanaf nu vooral plotjes, dat kan je denk ik zelf ook wel :)"
      ]
    },
    {
      "metadata": {
        "id": "d58VL2k1tQWu",
        "colab_type": "code",
        "colab": {}
      },
      "cell_type": "code",
      "source": [
        "ev = model.evaluate([traces_test, input_features_test, sapphire_reconstruction],labels_test, batch_size=2**12)\n",
        "print('Model with trace information, test set: loss: %.4f, mean angle of error: %.4f' % (ev[0],ev[1]))"
      ],
      "execution_count": 0,
      "outputs": []
    },
    {
      "metadata": {
        "id": "Kt-YQJXWJldg",
        "colab_type": "code",
        "colab": {}
      },
      "cell_type": "code",
      "source": [
        "idx = energies_test[:] > .9*10**14.5\n",
        "idx = np.ones(len(traces_test), dtype=bool)\n",
        "\n",
        "model_prediction = model.predict([traces_test[idx], input_features_test[idx]], batch_size=2**12, verbose=1)\n",
        "z,a = cartestian_to_azimuth_zenith(model_prediction[:,0],model_prediction[:,1],model_prediction[:,2])\n",
        "actual_direction = labels_test[:]\n",
        "z_true, a_true = cartestian_to_azimuth_zenith(labels_test[:][:,0],labels_test[:][:,1],labels_test[:][:,2])"
      ],
      "execution_count": 0,
      "outputs": []
    },
    {
      "metadata": {
        "id": "Z4YasObf05GR",
        "colab_type": "text"
      },
      "cell_type": "markdown",
      "source": [
        "Deze alleen runnen als je Kascade voorspellingen wilt doen"
      ]
    },
    {
      "metadata": {
        "id": "iJkMg_j67t1J",
        "colab_type": "code",
        "colab": {}
      },
      "cell_type": "code",
      "source": [
        "ev = model.evaluate([kascade_traces[:], kascade_input_features[:]], kascade_labels[:], batch_size=2**12)\n",
        "print('With Kascade data: loss: %.4f, mean angle of error: %.4f' % (ev[0],ev[1]))\n",
        "\n",
        "kascade_prediction = model.predict([kascade_traces[:], kascade_input_features[:]], batch_size=2**8, verbose=1)"
      ],
      "execution_count": 0,
      "outputs": []
    },
    {
      "metadata": {
        "id": "Hk6YB6bzLXxK",
        "colab_type": "code",
        "colab": {}
      },
      "cell_type": "code",
      "source": [
        "zenith,azimuth = cartestian_to_azimuth_zenith(model_prediction[:,0],model_prediction[:,1],model_prediction[:,2])\n",
        "idx = ~np.isnan(sapphire_reconstruction[:,0])\n",
        "actual_direction = labels_test[:][idx]"
      ],
      "execution_count": 0,
      "outputs": []
    },
    {
      "metadata": {
        "id": "0BlkElpbLQ53",
        "colab_type": "code",
        "colab": {}
      },
      "cell_type": "code",
      "source": [
        "plt.figure()\n",
        "bins = np.degrees(np.linspace(-.2 * np.pi, .2 * np.pi, 30))\n",
        "std_nn = np.std(np.degrees(z_true - zenith))\n",
        "std_sapphire = np.std(np.degrees(z_true - z_sapphire))\n",
        "h = plt.hist(np.degrees(z_true - z), bins=bins, histtype='step', label=r'Neural network', linewidth=1.5, density=True)\n",
        "#h = plt.hist(np.extract(~np.isnan(z_sapphire),np.degrees(z_true - z_sapphire)), bins=bins, histtype='step', label=r'Sapphire', linewidth=1.5, density=True)\n",
        "#plt.legend()\n",
        "plt.xlabel(r'$\\theta_{sim} - \\theta_{NN}$') # wat moet hier staan?\n",
        "plt.ylabel('Occurence')\n",
        "plt.show()\n",
        "#plt.savefig('difference_zenith.pdf')\n",
        "\n",
        "plt.figure()\n",
        "bins = np.degrees(np.linspace(-np.pi, np.pi, 30))\n",
        "h = plt.hist(np.degrees(a_true - azimuth), bins=bins, histtype='step', label=r'Neural network', linewidth=1.5, density=True)\n",
        "#print(np.std(np.degrees(a_true - azimuth)))\n",
        "#h = plt.hist(np.extract(~np.isnan(z_sapphire),np.degrees(z_true - z_sapphire)), bins=bins, histtype='step', label=r'Sapphire', linewidth=1.5, density=True)\n",
        "#plt.legend()\n",
        "plt.xlabel(r'$\\phi_{sim} - \\phi_{NN}$') # wat moet hier staan?\n",
        "plt.ylabel('Occurence')\n",
        "plt.show()\n",
        "#plt.savefig('difference_zenith.pdf')\n",
        "\n"
      ],
      "execution_count": 0,
      "outputs": []
    },
    {
      "metadata": {
        "id": "FKOkOmytMTYc",
        "colab_type": "code",
        "colab": {}
      },
      "cell_type": "code",
      "source": [
        "def middle_of_bins(bins):\n",
        "  bins += (bins[1]-bins[0])/2\n",
        "  return bins[:-1]\n",
        "\n",
        "plt.figure()\n",
        "bins = np.linspace(0., 90., 30, dtype=np.float32)\n",
        "sim_zenith = np.linspace(0.,60.+30,int(17+17/60*30), dtype=np.float32)\n",
        "sim_zenith -= 0.5\n",
        "sim_zenith = np.append(sim_zenith, sim_zenith[-1]+1)\n",
        "\n",
        "h = plt.hist(np.degrees(z_true), bins=sim_zenith, histtype='step', linewidth=1.5, label=r'Simulated')\n",
        "plt.xlabel(r'$\\theta$')\n",
        "plt.ylabel('Occurence')\n",
        "plt.savefig('zenith_true_distribution.pdf')\n",
        "#plt.figure()\n",
        "\n",
        "h = plt.hist(np.degrees(zenith), bins=sim_zenith, histtype='step', linewidth=1.5, label=r'Neural network')\n",
        "#plt.xlabel(r'$\\theta_{NN}$')\n",
        "#plt.ylabel('Occurence')\n",
        "plt.savefig('zenith_nn_distribution.pdf')\n",
        "plt.legend()\n",
        "\n",
        "plt.figure()\n",
        "h = plt.hist(np.extract(~np.isnan(z_sapphire),np.degrees(z_sapphire)), bins=sim_zenith, histtype='step', linewidth=1.5)\n",
        "plt.xlabel(r'$\\theta_{Sapphire}$')\n",
        "plt.ylabel('Occurence')\n",
        "plt.savefig('zenith_sapphire_distribution.pdf')\n",
        "\n",
        "# allemaal code voor als je het in 1 wilt, maar dat ziet er niet uit...\n",
        "plt.figure()\n",
        "h = plt.hist(np.degrees(z_true), bins=sim_zenith, histtype='step', linewidth=1.5, label='Simulated', color='red')\n",
        "h = plt.hist(np.degrees(zenith), bins=sim_zenith, label='Neural network', histtype='step', linewidth=1.5, color='blue')\n",
        "h = plt.hist(np.extract(~np.isnan(z_sapphire), np.degrees(z_sapphire)), bins=sim_zenith, label='Sapphire', histtype='step', linewidth=1.5, color='green')\n",
        "\n",
        "\n",
        "\n",
        "#plt.figure()\n",
        "#h = plt.hist(((np.degrees(z_true), np.degrees(zenith), np.degrees(z_sapphire))), bins=bins, histtype='bar', linewidth=1.5, label=['Simulated', 'Neural network', 'Sapphire'])\n",
        "#plt.legend()\n",
        "\n",
        "plt.figure()\n",
        "\n",
        "h, bins = np.histogram(np.degrees(zenith), bins=bins)\n",
        "plt.plot(middle_of_bins(bins), h, 'X-', label='Neural network')\n",
        "h, bins = np.histogram(np.extract(~np.isnan(z_sapphire), np.degrees(z_sapphire)), bins=bins)\n",
        "plt.plot(middle_of_bins(bins), h, 'X-', label='Sapphire')\n",
        "h, bins = np.histogram(np.degrees(z_true), bins=sim_zenith)\n",
        "plt.plot(middle_of_bins(bins), h, 'X-', label='Simulated')\n",
        "plt.legend()\n",
        "\n"
      ],
      "execution_count": 0,
      "outputs": []
    },
    {
      "metadata": {
        "id": "5wVjcKa4Nd2e",
        "colab_type": "code",
        "colab": {}
      },
      "cell_type": "code",
      "source": [
        "bins = np.linspace(-180., 180., 20, dtype=np.float32)\n",
        "z,a = cartestian_to_azimuth_zenith(model_prediction[:,0],model_prediction[:,1],model_prediction[:,2])\n",
        "plt.figure()\n",
        "h_orig, bins, p = plt.hist(np.degrees(a_true), bins=bins, histtype='step', label='Simulated', linewidth=1.5)\n",
        "h_orig_sapphire, bins = np.histogram(np.compress(~np.isnan(a_sapphire),np.degrees(a_true)), bins=bins)\n",
        "\n",
        "plt.ylabel('Occurence')\n",
        "\n",
        "\n",
        "h_nn, bins, p = plt.hist(np.degrees(a), bins=bins, histtype='step', label='Neural network', linewidth=1.5)\n",
        "plt.xlabel(r'$\\phi$')\n",
        "plt.ylabel('Occurence')\n",
        "plt.legend()\n",
        "'''\n",
        "plt.figure()\n",
        "h_sapphire, bins, p = plt.hist(np.compress(~np.isnan(a_sapphire),np.degrees(a_sapphire)), bins=bins)\n",
        "plt.xlabel(r'$\\phi_{sapphire}$')\n",
        "plt.ylabel('Occurence')\n",
        "plt.show()\n",
        "plt.savefig('saphire_azimuth_distribution.pdf')\n",
        "\n",
        "plt.bar(middle_of_bins(bins), h_orig_sapphire-h_sapphire, width=(bins[1]-bins[0])/2, label='Sapphire')\n",
        "plt.bar(middle_of_bins(bins), h_orig-h_nn, width=(bins[1]-bins[0])/2, label='Neural Network')\n",
        "plt.legend()\n",
        "plt.xlabel(r'$\\phi$')\n",
        "plt.ylabel('Occurence difference')\n",
        "'''"
      ],
      "execution_count": 0,
      "outputs": []
    },
    {
      "metadata": {
        "id": "Av1WhDAXTeWl",
        "colab_type": "code",
        "colab": {}
      },
      "cell_type": "code",
      "source": [
        "energies = 10**np.arange(13.5, 16.5, 0.5)\n",
        "bins = np.linspace(-180., 180., 10, dtype=np.float32)\n",
        "z,a = cartestian_to_azimuth_zenith(model_prediction[:,0],model_prediction[:,1],model_prediction[:,2])\n",
        "\n",
        "for e in energies:\n",
        "  idx = (energies_test[:]  < 1.1*e) & (energies_test[:] > .9*e) \n",
        "  \n",
        "  plt.ylabel('Occurence')\n",
        "  h_nn, bins, p = plt.hist(np.degrees(a[idx]), bins=bins, histtype='step', label='{0:.2f}'.format(np.log10(e)), linewidth=1.5)\n",
        "  plt.xlabel(r'$\\phi$')\n",
        "  plt.ylabel('Occurence')\n",
        "plt.legend()"
      ],
      "execution_count": 0,
      "outputs": []
    },
    {
      "metadata": {
        "id": "Pt3NFmGGTHA4",
        "colab_type": "code",
        "colab": {}
      },
      "cell_type": "code",
      "source": [
        "bins = np.linspace(-180., 180., 20, dtype=np.float32)\n",
        "z,a = cartestian_to_azimuth_zenith(model_prediction[:,0],model_prediction[:,1],model_prediction[:,2])\n",
        "plt.figure()\n",
        "h_orig, bins, p = plt.hist(np.degrees(a_true), bins=bins, histtype='step', label='Simulated', linewidth=1.5)\n",
        "h_orig_sapphire, bins = np.histogram(np.compress(~np.isnan(a_sapphire),np.degrees(a_true)), bins=bins)\n",
        "\n",
        "plt.ylabel('Occurence')\n",
        "\n",
        "\n",
        "h_nn, bins, p = plt.hist(np.degrees(a), bins=bins, histtype='step', label='Neural network', linewidth=1.5)\n",
        "plt.xlabel(r'$\\phi$')\n",
        "plt.ylabel('Occurence')\n",
        "plt.legend()"
      ],
      "execution_count": 0,
      "outputs": []
    },
    {
      "metadata": {
        "id": "ZTRCC3VSqfiB",
        "colab_type": "code",
        "colab": {}
      },
      "cell_type": "code",
      "source": [
        "def transform_error(dist, bins):\n",
        "  to_return = dist/(2*np.pi*(np.sin(bins)))\n",
        "  return to_return\n",
        "def middle_of_bins(bins):\n",
        "  bins += (bins[1]-bins[0])/2\n",
        "  return bins[:-1]\n",
        "plt.figure()\n",
        "bins = np.linspace(0, 60, 50)\n",
        "middle_bins = bins.copy()\n",
        "middle_bins = middle_of_bins(middle_bins)\n",
        "h, b = np.histogram(a, bins=bins)\n",
        "h = transform_error(h,np.radians(middle_bins))\n",
        "width_bin = b[1]-b[0]\n",
        "events = np.zeros(int(np.sum(h)))\n",
        "i = 0\n",
        "for h_local, bin_local in zip(h,middle_bins):\n",
        "  events[i:i+int(h_local)] = bin_local\n",
        "  i += int(h_local)+1\n",
        "h = h / np.sum(h)\n",
        "#plt.bar(b[:-1], h, width=width_bin, label='Neural network')\n",
        "std = np.sqrt(np.mean(abs(events)**2))\n",
        "print(\"Standard deviation of neural network: %s\" % std)\n",
        "plt.step(bins, np.insert(h,0,0), label='Neural network')\n",
        "\n",
        "a = np.compress(~np.isnan(a), a)\n",
        "h, b = np.histogram(a, bins=bins)\n",
        "h = transform_error(h,np.radians(middle_bins))\n",
        "events = np.zeros(int(np.sum(h)))\n",
        "i = 0\n",
        "for h_local, bin_local in zip(h,middle_bins):\n",
        "  events[i:i+int(h_local)] = bin_local\n",
        "  i += int(h_local)+1\n",
        "std = np.sqrt(np.mean(abs(events)**2))\n",
        "print(\"Standard deviation of sapphire: %s\" % std)\n",
        "# sanity check\n",
        "print(np.count_nonzero(events<std)/np.count_nonzero(events))\n",
        "h = h / np.sum(h)\n",
        "#plt.bar(b[:-1], h, width=(b[1]-b[0]), label='Sapphire')\n",
        "plt.step(bins, np.insert(h,0,0), label='Sapphire')\n",
        "plt.legend()"
      ],
      "execution_count": 0,
      "outputs": []
    },
    {
      "metadata": {
        "id": "P08j6e28MsaK",
        "colab_type": "code",
        "colab": {}
      },
      "cell_type": "code",
      "source": [
        "def transform_error(dist, bins):\n",
        "  to_return = dist/(2*np.pi*(np.sin(bins)))\n",
        "  return to_return\n",
        "def middle_of_bins(bins):\n",
        "  bins += (bins[1]-bins[0])/2\n",
        "  return bins[:-1]"
      ],
      "execution_count": 0,
      "outputs": []
    },
    {
      "metadata": {
        "id": "OdIzJy-S2hZg",
        "colab_type": "code",
        "colab": {}
      },
      "cell_type": "code",
      "source": [
        "from scipy import stats\n",
        "\n",
        "def transform_error(dist, bins):\n",
        "  to_return = dist/(2*np.pi*(np.sin(bins)))\n",
        "  return to_return\n",
        "def middle_of_bins(bins):\n",
        "  bins += (bins[1]-bins[0])/2\n",
        "  return bins[:-1]\n",
        "\n",
        "\n",
        "#a = angle_between_two_vectors(np.compress(~np.isnan(sapphire_reconstruction[:,0]), sapphire_reconstruction, axis=0), actual_direction)\n",
        "#non_reconstructed = np.isnan(a)\n",
        "\n",
        "\n",
        "bins = np.linspace(0, 60, 30)\n",
        "middle_bins = bins.copy()\n",
        "middle_bins = middle_of_bins(middle_bins)\n",
        "\n",
        "\"\"\"\n",
        "a = angle_between_two_vectors(model_prediction, actual_direction)\n",
        "\n",
        "\n",
        "\n",
        "h, b = np.histogram(a, bins=bins)\n",
        "h = transform_error(h,np.radians(middle_bins))\n",
        "\n",
        "#plt.bar(b[:-1], h, width=width_bin, label='Neural network')\n",
        "\n",
        "new_a = []\n",
        "for i, b in enumerate(middle_bins):\n",
        "  for _ in range(int(h[i])):\n",
        "    new_a.append(b)\n",
        "\n",
        "mean, var = stats.halfnorm.fit(new_a)\n",
        "print(mean, var)\n",
        "\n",
        "\n",
        "h = h / np.sum(h)\n",
        "fwhm = middle_bins[h<np.max(h)/2][0]\n",
        "print(\"fwhm of nn: %s\" % fwhm)\n",
        "plt.step(bins, np.insert(h,0,0), label='Neural network, FWHM: {0:.2f}'.format(fwhm))\n",
        "\n",
        "\"\"\"\n",
        "idx = energies_test[:] > 0.9*10**14.5\n",
        "idx = np.ones(len(actual_direction), dtype=bool)\n",
        "a = angle_between_two_vectors(model_prediction, actual_direction[idx])\n",
        "\n",
        "h, b = np.histogram(a, bins=bins)\n",
        "h = transform_error(h, np.radians(middle_bins))\n",
        "\n",
        "new_a = []\n",
        "for i, b in enumerate(middle_bins):\n",
        "  for _ in range(int(h[i])):\n",
        "    new_a.append(b)\n",
        "\n",
        "\n",
        "sixtyeight = new_a[np.argsort(new_a)[int(len(new_a)*.68)]]\n",
        "    \n",
        "  \n",
        "  \n",
        "h = h / np.sum(h)\n",
        "#plt.bar(b[:-1], h, width=width_bin, label='Neural network')\n",
        "\n",
        "\n",
        "fwhm = middle_bins[h<np.max(h)/2][0]\n",
        "\n",
        "print('fwhm of nn with only sapphire reconstructed events %s' % fwhm)\n",
        "\n",
        "plt.step(bins, np.insert(h,0,0), label='Neural network, 68th percentile: {0:.2f}'.format(sixtyeight))\n",
        "\n",
        "\n",
        "a = angle_between_two_vectors(sapphire_reconstruction[idx], actual_direction[idx])\n",
        "\n",
        "\n",
        "\n",
        "print(np.count_nonzero(np.isnan(a)))\n",
        "print('total: %s' % len(a))\n",
        "a = np.compress(~np.isnan(a), a)\n",
        "\n",
        "\n",
        "\n",
        "h, b = np.histogram(a, bins=bins)\n",
        "h = transform_error(h,np.radians(middle_bins))\n",
        "fwhm = middle_bins[h<np.max(h)/2][0]\n",
        "print(fwhm)\n",
        "\n",
        "print(\"fwhm of sapphire: %s\" % fwhm)\n",
        "new_a = []\n",
        "for i, b in enumerate(middle_bins):\n",
        "  for _ in range(int(h[i])):\n",
        "    new_a.append(b)\n",
        "\n",
        "\n",
        "sixtyeight = new_a[np.argsort(new_a)[int(len(new_a)*.68)]]\n",
        "    \n",
        "\n",
        "\n",
        "# sanity check\n",
        "\n",
        "\n",
        "h = h / np.sum(h)\n",
        "#plt.bar(b[:-1], h, width=(b[1]-b[0]), label='Sapphire')\n",
        "plt.step(bins, np.insert(h,0,0), label='Sapphire, 68th percentile: {0:.2f}'.format(sixtyeight))\n",
        "plt.legend()\n",
        "plt.xlabel(r'$\\delta (\\degree)$')\n",
        "plt.ylabel(r'$N(\\delta)$')\n",
        "\n"
      ],
      "execution_count": 0,
      "outputs": []
    },
    {
      "metadata": {
        "id": "u5ealGhzVHEK",
        "colab_type": "code",
        "colab": {}
      },
      "cell_type": "code",
      "source": [
        "energies = 10**np.arange(13.5, 17, 0.5)\n",
        "\n",
        "\n",
        "\n",
        "fwhm_per_zenith = []\n",
        "fwhm_zeniths = []\n",
        "fwhm_std = []\n",
        "for e in energies:\n",
        "  idx = (energies_test[:]  < 1.1*e) & (energies_test[:] > .9*e) \n",
        "\n",
        "  bins = np.linspace(0, 40, 200)\n",
        "  middle_bins = bins.copy()\n",
        "  middle_bins = middle_of_bins(middle_bins)\n",
        "  a = angle_between_two_vectors(model_prediction[idx], actual_direction[idx])\n",
        "\n",
        "\n",
        "  h, b = np.histogram(a, bins=bins)\n",
        "  h = transform_error(h,np.radians(middle_bins))\n",
        "  \n",
        "  new_a = []\n",
        "  for i, b in enumerate(middle_bins):\n",
        "    for _ in range(int(h[i])):\n",
        "      new_a.append(b)\n",
        "\n",
        "  sixtyeight = new_a[np.argsort(new_a)[int(len(new_a)*.68)]]\n",
        "  h = h / np.sum(h)\n",
        "  #plt.step(bins, np.insert(h,0,0), label=np.degrees(.5*(z2+z1)))#'Neural network, FWHM: {0:.2f}'.format(fwhm))\n",
        "  fwhm_per_zenith.append(sixtyeight)\n",
        "  fwhm_zeniths.append(np.log10(e))\n",
        "  fwhm_std.append(sixtyeight/np.sqrt(len(a)))\n",
        "  print(len(a))\n",
        "plt.figure()\n",
        "plt.plot(fwhm_zeniths, fwhm_per_zenith, 'o')\n",
        "plt.xlabel(r'$\\log$ E (Ev)')\n",
        "plt.ylabel(r'68th percentile $\\delta (\\degree)$')\n",
        "plt.grid()"
      ],
      "execution_count": 0,
      "outputs": []
    },
    {
      "metadata": {
        "id": "7kafySFECbbe",
        "colab_type": "code",
        "colab": {
          "base_uri": "https://localhost:8080/",
          "height": 35
        },
        "outputId": "37751e6d-abec-4cc2-9b8a-4790d1929517"
      },
      "cell_type": "code",
      "source": [
        "z_true[sorted_zenith[1000]]"
      ],
      "execution_count": 0,
      "outputs": [
        {
          "output_type": "execute_result",
          "data": {
            "text/plain": [
              "0.065449566"
            ]
          },
          "metadata": {
            "tags": []
          },
          "execution_count": 43
        }
      ]
    },
    {
      "metadata": {
        "id": "gSYOzQ7M8uTk",
        "colab_type": "code",
        "colab": {}
      },
      "cell_type": "code",
      "source": [
        "from itertools import tee\n",
        "\n",
        "def pairwise(iterable):\n",
        "    \"s -> (s0,s1), (s1,s2), (s2, s3), ...\"\n",
        "    a, b = tee(iterable)\n",
        "    next(b, None)\n",
        "    return zip(a, b)\n",
        "\n",
        "#zenith_angles = np.linspace(0, 50, 20)\n",
        "\n",
        "zenith_angles = np.linspace(0,50,5)\n",
        "fwhm_per_zenith = []\n",
        "fwhm_zeniths = []\n",
        "fwhm_std = []\n",
        "\n",
        "bins = np.linspace(0, 40, 100)\n",
        "middle_bins = bins.copy()\n",
        "middle_bins = middle_of_bins(middle_bins)\n",
        "\n",
        "sorted_zenith = np.argsort(z_true)\n",
        "i_local = 0\n",
        "idx = []\n",
        "z_local = []\n",
        "limit = 2000\n",
        "print(len(sorted_zenith))\n",
        "with tqdm(total=len(sorted_zenith)) as t:\n",
        "  while i_local < len(sorted_zenith):\n",
        "    z_local.append(z_true[sorted_zenith[i_local]])\n",
        "    idx.append(sorted_zenith[i_local])\n",
        "    if len(z_local) == limit:\n",
        "      t.update(limit)\n",
        "      a = angle_between_two_vectors(model_prediction[idx], actual_direction[idx])\n",
        "      h, b = np.histogram(a, bins=bins)\n",
        "      h = transform_error(h,np.radians(middle_bins))\n",
        "      new_a = []\n",
        "      for i, b in enumerate(middle_bins):\n",
        "        for _ in range(int(h[i])):\n",
        "          new_a.append(b)\n",
        "      sixtyeight = new_a[np.argsort(new_a)[int(len(new_a)*.68)]]\n",
        "      h = h / np.sum(h)\n",
        "      fwhm_per_zenith.append(sixtyeight)\n",
        "      fwhm_zeniths.append(np.mean(z_local))\n",
        "      idx = []\n",
        "      z_local = []\n",
        "    i_local += 1\n",
        "plt.figure()\n",
        "plt.plot(np.degrees(fwhm_zeniths), fwhm_per_zenith, 'o')\n",
        "plt.grid()\n",
        "plt.xlabel(r'$\\theta_{sim} (\\degree)$')\n",
        "plt.ylabel(r'68th percentile $\\delta (\\degree)$')\n",
        "\"\"\"\n",
        "for z1, z2 in pairwise(np.radians(zenith_angles)):\n",
        "  idx = (z_true>=z1) & (z_true < z2)\n",
        "  bins = np.linspace(0, 40, 100)\n",
        "  middle_bins = bins.copy()\n",
        "  middle_bins = middle_of_bins(middle_bins)\n",
        "  a = angle_between_two_vectors(model_prediction[idx], actual_direction[idx])\n",
        "\n",
        "\n",
        "  h, b = np.histogram(a, bins=bins)\n",
        "  h = transform_error(h,np.radians(middle_bins))\n",
        "  new_a = []\n",
        "  for i, b in enumerate(middle_bins):\n",
        "    for _ in range(int(h[i])):\n",
        "      new_a.append(b)\n",
        "  if len(new_a) < 500:\n",
        "    continue\n",
        "  sixtyeight = new_a[np.argsort(new_a)[int(len(new_a)*.68)]]\n",
        "  h = h / np.sum(h)\n",
        "  plt.step(bins, np.insert(h,0,0), label=np.degrees(.5*(z2+z1)))\n",
        "  fwhm_per_zenith.append(sixtyeight)\n",
        "  fwhm_zeniths.append(.5*(z2+z1))\n",
        "  fwhm_std.append(sixtyeight/np.sqrt(len(a)))\n",
        "  plt.legend()\n",
        "plt.figure()\n",
        "plt.plot(np.degrees(fwhm_zeniths), fwhm_per_zenith, 'o')\n",
        "plt.grid()\n",
        "plt.xlabel(r'$\\theta (\\degree)$')\n",
        "plt.ylabel(r'68th percentile $\\delta (\\degree)$')\n",
        "\"\"\""
      ],
      "execution_count": 0,
      "outputs": []
    },
    {
      "metadata": {
        "id": "qgXak7XGedom",
        "colab_type": "code",
        "colab": {}
      },
      "cell_type": "code",
      "source": [
        "from itertools import tee\n",
        "\n",
        "def pairwise(iterable):\n",
        "    \"s -> (s0,s1), (s1,s2), (s2, s3), ...\"\n",
        "    a, b = tee(iterable)\n",
        "    next(b, None)\n",
        "    return zip(a, b)\n",
        "\n",
        "azimuth_angles = np.linspace(-180, 180, 20)\n",
        "fwhm_per_zenith = []\n",
        "fwhm_zeniths = []\n",
        "fwhm_std = []\n",
        "for z1, z2 in pairwise(np.radians(azimuth_angles)):\n",
        "  idx = (a_true>=z1) & (a_true < z2)\n",
        "\n",
        "  bins = np.linspace(0, 40, 100)\n",
        "  middle_bins = bins.copy()\n",
        "  middle_bins = middle_of_bins(middle_bins)\n",
        "  a = angle_between_two_vectors(model_prediction[idx], actual_direction[idx])\n",
        "\n",
        "\n",
        "  h, b = np.histogram(a, bins=bins)\n",
        "  h = transform_error(h,np.radians(middle_bins))\n",
        "  new_a = []\n",
        "  for i, b in enumerate(middle_bins):\n",
        "    for _ in range(int(h[i])):\n",
        "      new_a.append(b)\n",
        "  if len(new_a) < 500:\n",
        "    continue\n",
        "  sixtyeight = new_a[np.argsort(new_a)[int(len(new_a)*.68)]]\n",
        "  h = h / np.sum(h)\n",
        "  #plt.step(bins, np.insert(h,0,0), label=np.degrees(.5*(z2+z1)))#'Neural network, FWHM: {0:.2f}'.format(fwhm))\n",
        "  fwhm_per_zenith.append(sixtyeight)\n",
        "  fwhm_zeniths.append(.5*(z2+z1))\n",
        "  fwhm_std.append(sixtyeight/np.sqrt(len(a)))\n",
        "plt.figure()\n",
        "plt.plot(np.degrees(fwhm_zeniths), fwhm_per_zenith, 'o-')\n",
        "plt.grid()\n",
        "plt.xlabel(r'$\\phi (\\degree)$')\n",
        "plt.ylabel(r'68th percentile $\\delta (\\degree)$')\n"
      ],
      "execution_count": 0,
      "outputs": []
    },
    {
      "metadata": {
        "id": "HGr2eocPfJZH",
        "colab_type": "code",
        "colab": {}
      },
      "cell_type": "code",
      "source": [
        "from itertools import tee\n",
        "\n",
        "def pairwise(iterable):\n",
        "    \"s -> (s0,s1), (s1,s2), (s2, s3), ...\"\n",
        "    a, b = tee(iterable)\n",
        "    next(b, None)\n",
        "    return zip(a, b)\n",
        "\n",
        "c_distance = np.linspace(0, 100, 10)\n",
        "\n",
        "\n",
        "from itertools import tee\n",
        "\n",
        "def pairwise(iterable):\n",
        "    \"s -> (s0,s1), (s1,s2), (s2, s3), ...\"\n",
        "    a, b = tee(iterable)\n",
        "    next(b, None)\n",
        "    return zip(a, b)\n",
        "\n",
        "#zenith_angles = np.linspace(0, 50, 20)\n",
        "\n",
        "zenith_angles = np.linspace(0,50,5)\n",
        "fwhm_per_zenith = []\n",
        "fwhm_zeniths = []\n",
        "fwhm_std = []\n",
        "\n",
        "bins = np.linspace(0, 40, 100)\n",
        "middle_bins = bins.copy()\n",
        "middle_bins = middle_of_bins(middle_bins)\n",
        "\n",
        "sorted_zenith = np.argsort(c_distance_test[:])\n",
        "i_local = 0\n",
        "idx = []\n",
        "z_local = []\n",
        "limit = 4000\n",
        "print(len(sorted_zenith))\n",
        "with tqdm(total=len(sorted_zenith)) as t:\n",
        "  while i_local < len(sorted_zenith):\n",
        "    z_local.append(c_distance_test[sorted_zenith[i_local]])\n",
        "    idx.append(sorted_zenith[i_local])\n",
        "    if len(z_local) == limit:\n",
        "      t.update(limit)\n",
        "      a = angle_between_two_vectors(model_prediction[idx], actual_direction[idx])\n",
        "      h, b = np.histogram(a, bins=bins)\n",
        "      h = transform_error(h,np.radians(middle_bins))\n",
        "      new_a = []\n",
        "      for i, b in enumerate(middle_bins):\n",
        "        for _ in range(int(h[i])):\n",
        "          new_a.append(b)\n",
        "      sixtyeight = new_a[np.argsort(new_a)[int(len(new_a)*.68)]]\n",
        "      h = h / np.sum(h)\n",
        "      fwhm_per_zenith.append(sixtyeight)\n",
        "      fwhm_zeniths.append(np.mean(z_local))\n",
        "      idx = []\n",
        "      z_local = []\n",
        "    i_local += 1\n",
        "plt.figure()\n",
        "plt.plot(fwhm_zeniths, fwhm_per_zenith, 'o')\n",
        "plt.grid()\n",
        "plt.xlabel('Core distance (m)')\n",
        "plt.ylabel(r'68th percentile $\\delta (\\degree)$')\n",
        "\"\"\"\n",
        "for z1, z2 in pairwise(np.radians(zenith_angles)):\n",
        "  idx = (z_true>=z1) & (z_true < z2)\n",
        "  bins = np.linspace(0, 40, 100)\n",
        "  middle_bins = bins.copy()\n",
        "  middle_bins = middle_of_bins(middle_bins)\n",
        "  a = angle_between_two_vectors(model_prediction[idx], actual_direction[idx])\n",
        "\n",
        "\n",
        "  h, b = np.histogram(a, bins=bins)\n",
        "  h = transform_error(h,np.radians(middle_bins))\n",
        "  new_a = []\n",
        "  for i, b in enumerate(middle_bins):\n",
        "    for _ in range(int(h[i])):\n",
        "      new_a.append(b)\n",
        "  if len(new_a) < 500:\n",
        "    continue\n",
        "  sixtyeight = new_a[np.argsort(new_a)[int(len(new_a)*.68)]]\n",
        "  h = h / np.sum(h)\n",
        "  plt.step(bins, np.insert(h,0,0), label=np.degrees(.5*(z2+z1)))\n",
        "  fwhm_per_zenith.append(sixtyeight)\n",
        "  fwhm_zeniths.append(.5*(z2+z1))\n",
        "  fwhm_std.append(sixtyeight/np.sqrt(len(a)))\n",
        "  plt.legend()\n",
        "plt.figure()\n",
        "plt.plot(np.degrees(fwhm_zeniths), fwhm_per_zenith, 'o')\n",
        "plt.grid()\n",
        "plt.xlabel(r'$\\theta (\\degree)$')\n",
        "plt.ylabel(r'68th percentile $\\delta (\\degree)$')\n",
        "\n",
        "\n",
        "\n",
        "\n",
        "fwhm_per_zenith = []\n",
        "fwhm_zeniths = []\n",
        "fwhm_std = []\n",
        "for z1, z2 in pairwise(c_distance):\n",
        "  idx = (c_distance_test[:]>=z1) & (c_distance_test[:] < z2)\n",
        "\n",
        "  bins = np.linspace(0, 40, 100)\n",
        "  middle_bins = bins.copy()\n",
        "  middle_bins = middle_of_bins(middle_bins)\n",
        "  a = angle_between_two_vectors(model_prediction[idx], actual_direction[idx])\n",
        "\n",
        "\n",
        "  h, b = np.histogram(a, bins=bins)\n",
        "  h = transform_error(h,np.radians(middle_bins))\n",
        "  new_a = []\n",
        "  for i, b in enumerate(middle_bins):\n",
        "    for _ in range(int(h[i])):\n",
        "      new_a.append(b)\n",
        "  if len(new_a) < 500:\n",
        "    continue\n",
        "  sixtyeight = new_a[np.argsort(new_a)[int(len(new_a)*.68)]]\n",
        "  h = h / np.sum(h)\n",
        "  #plt.step(bins, np.insert(h,0,0), label=np.degrees(.5*(z2+z1)))#'Neural network, FWHM: {0:.2f}'.format(fwhm))\n",
        "  fwhm_per_zenith.append(sixtyeight)\n",
        "  fwhm_zeniths.append(.5*(z2+z1))\n",
        "  fwhm_std.append(sixtyeight/np.sqrt(len(a)))\n",
        "plt.figure()\n",
        "plt.plot(fwhm_zeniths, fwhm_per_zenith, 'o')\n",
        "plt.grid()\n",
        "plt.xlabel('Core distance (m)')\n",
        "plt.ylabel(r'68th percentile $\\delta (\\degree)$')\n",
        "\"\"\""
      ],
      "execution_count": 0,
      "outputs": []
    },
    {
      "metadata": {
        "id": "sl_WJXmqy84g",
        "colab_type": "code",
        "colab": {}
      },
      "cell_type": "code",
      "source": [
        "higher_than_2 = [i for i, q in enumerate(mips_test) if q[0]>2 and q[1]>2 and q[2]>2 and q[3]> 2]\n",
        "print(len(higher_than_2))\n",
        "higher_than_2 = np.array(higher_than_2)\n",
        "def transform_error(dist, bins):\n",
        "  to_return = dist/(2*np.pi*(np.sin(bins)))\n",
        "  return to_return\n",
        "def middle_of_bins(bins):\n",
        "  bins += (bins[1]-bins[0])/2\n",
        "  return bins[:-1]\n",
        "plt.figure()\n",
        "\n",
        "\n",
        "bins = np.linspace(0, 60, 50)\n",
        "middle_bins = bins.copy()\n",
        "middle_bins = middle_of_bins(middle_bins)\n",
        "a = angle_between_two_vectors(model_prediction, actual_direction)\n",
        "a = a[higher_than_2]\n",
        "\n",
        "\n",
        "h, b = np.histogram(a, bins=bins)\n",
        "h = transform_error(h,np.radians(middle_bins))\n",
        "h = h / np.sum(h)\n",
        "#plt.bar(b[:-1], h, width=width_bin, label='Neural network')\n",
        "\n",
        "fwhm = middle_bins[h<np.max(h)/2][0]\n",
        "print(\"fwhm of nn: %s\" % fwhm)\n",
        "plt.step(bins, np.insert(h,0,0), label='Neural network, FWHM: {0:.2f}'.format(fwhm))\n",
        "\n",
        "\n",
        "\n",
        "a = angle_between_two_vectors(sapphire_reconstruction, actual_direction)\n",
        "a = a[higher_than_2]\n",
        "\n",
        "print(np.count_nonzero(np.isnan(a)))\n",
        "print('total: %s' % len(a))\n",
        "a = np.compress(~np.isnan(a), a)\n",
        "h, b = np.histogram(a, bins=bins)\n",
        "h = transform_error(h,np.radians(middle_bins))\n",
        "fwhm = middle_bins[h<np.max(h)/2][0]\n",
        "print(fwhm)\n",
        "\n",
        "print(\"fwhm of sapphire: %s\" % fwhm)\n",
        "\n",
        "\n",
        "# sanity check\n",
        "print(np.count_nonzero(events<std)/np.count_nonzero(events))\n",
        "\n",
        "\n",
        "h = h / np.sum(h)\n",
        "#plt.bar(b[:-1], h, width=(b[1]-b[0]), label='Sapphire')\n",
        "plt.step(bins, np.insert(h,0,0), label='Sapphire, FWHM: {0:.2f}'.format(fwhm))\n",
        "plt.legend()\n",
        "plt.xlabel(r'$\\delta (\\degree)$')\n",
        "plt.ylabel(r'$N(\\delta)$')"
      ],
      "execution_count": 0,
      "outputs": []
    },
    {
      "metadata": {
        "id": "PTSTKISYL9A-",
        "colab_type": "text"
      },
      "cell_type": "markdown",
      "source": [
        "# Kascade "
      ]
    },
    {
      "metadata": {
        "id": "QW_loW7sJNJT",
        "colab_type": "code",
        "colab": {
          "base_uri": "https://localhost:8080/",
          "height": 34
        },
        "outputId": "8cf1fe40-10cd-4a47-bffb-fedcb64bf07c"
      },
      "cell_type": "code",
      "source": [
        "kascade_zenith, kascade_azimuth = cartestian_to_azimuth_zenith(kascade_labels[:][:,0], kascade_labels[:][:,1], kascade_labels[:][:,2])\n",
        "kascade_pred_zenith, kascade_pred_azimuth = cartestian_to_azimuth_zenith(kascade_prediction[:][:,0], kascade_prediction[:][:,1], kascade_prediction[:][:,2])\n",
        "kascade_sapp_zenith, kascade_sapp_azimuth = cartestian_to_azimuth_zenith(kascade_sapphire_reconstruction[:][:,0], kascade_sapphire_reconstruction[:][:,1], kascade_sapphire_reconstruction[:][:,2])\n",
        "\n",
        "print('Percentage of not reconstructed events {0:.2f}'.format(np.count_nonzero(np.isnan(kascade_sapp_azimuth))/len(kascade_sapp_azimuth)))"
      ],
      "execution_count": 0,
      "outputs": [
        {
          "output_type": "stream",
          "text": [
            "Percentage of not reconstructed events 0.57\n"
          ],
          "name": "stdout"
        }
      ]
    },
    {
      "metadata": {
        "id": "GIV-laeYI2K6",
        "colab_type": "code",
        "colab": {}
      },
      "cell_type": "code",
      "source": [
        "def middle_of_bins(bins):\n",
        "  bins += (bins[1]-bins[0])/2\n",
        "  return bins[:-1]\n",
        "\n",
        "\n",
        "plt.figure()\n",
        "bins = np.linspace(0., 90., 30, dtype=np.float32)\n",
        "\n",
        "h = plt.hist(np.degrees(kascade_zenith), bins=bins, histtype='step', linewidth=1.5, label=r'Kascade')\n",
        "plt.xlabel(r'$\\theta$')\n",
        "plt.ylabel('Occurence')\n",
        "plt.savefig('zenith_true_distribution.pdf')\n",
        "#plt.figure()\n",
        "\n",
        "h = plt.hist(np.degrees(kascade_pred_zenith), bins=bins, histtype='step', linewidth=1.5, label=r'Neural network')\n",
        "#plt.xlabel(r'$\\theta_{NN}$')\n",
        "#plt.ylabel('Occurence')\n",
        "plt.savefig('zenith_nn_distribution.pdf')\n",
        "\n",
        "h = plt.hist(np.extract(~np.isnan(kascade_sapp_zenith),np.degrees(kascade_sapp_zenith)), bins=bins, histtype='step', linewidth=1.5, label='Sapphire')\n",
        "#plt.xlabel(r'$\\theta_{Sapphire}$')\n",
        "#plt.ylabel('Occurence')\n",
        "#plt.savefig('zenith_sapphire_distribution.pdf')\n",
        "\n",
        "plt.legend()\n",
        "\n",
        "\n"
      ],
      "execution_count": 0,
      "outputs": []
    },
    {
      "metadata": {
        "id": "_y7utIbeL_iZ",
        "colab_type": "code",
        "colab": {}
      },
      "cell_type": "code",
      "source": [
        "bins = np.linspace(-180., 180., 20, dtype=np.float32)\n",
        "plt.figure()\n",
        "h_orig, bins, p = plt.hist(np.degrees(kascade_azimuth), bins=bins, histtype='step', label='Kascade', linewidth=1.5)\n",
        "\n",
        "plt.ylabel('Occurence')\n",
        "\n",
        "\n",
        "h_nn, bins, p = plt.hist(np.degrees(kascade_pred_azimuth), bins=bins, histtype='step', label='Neural network', linewidth=1.5)\n",
        "plt.xlabel(r'$\\phi$')\n",
        "plt.ylabel('Occurence')\n",
        "h_orig_sapphire, bins, _ = plt.hist(np.compress(~np.isnan(kascade_sapp_azimuth),np.degrees(kascade_sapp_azimuth)), bins=bins, histtype='step', label='Sapphire', linewidth=1.5)\n",
        "\n",
        "plt.legend()\n",
        "'''\n",
        "plt.figure()\n",
        "h_sapphire, bins, p = plt.hist(np.compress(~np.isnan(a_sapphire),np.degrees(a_sapphire)), bins=bins)\n",
        "plt.xlabel(r'$\\phi_{sapphire}$')\n",
        "plt.ylabel('Occurence')\n",
        "plt.show()\n",
        "plt.savefig('saphire_azimuth_distribution.pdf')\n",
        "\n",
        "plt.bar(middle_of_bins(bins), h_orig_sapphire-h_sapphire, width=(bins[1]-bins[0])/2, label='Sapphire')\n",
        "plt.bar(middle_of_bins(bins), h_orig-h_nn, width=(bins[1]-bins[0])/2, label='Neural Network')\n",
        "plt.legend()\n",
        "plt.xlabel(r'$\\phi$')\n",
        "plt.ylabel('Occurence difference')\n",
        "'''"
      ],
      "execution_count": 0,
      "outputs": []
    },
    {
      "metadata": {
        "id": "3AWc7yMnPKbR",
        "colab_type": "code",
        "colab": {}
      },
      "cell_type": "code",
      "source": [
        "plt.figure()\n",
        "bins = np.degrees(np.linspace(-.2 * np.pi, .2 * np.pi, 30))\n",
        "h = plt.hist(np.degrees(kascade_zenith - kascade_pred_zenith), bins=bins, histtype='step', label=r'Neural network', linewidth=1.5, density=True)\n",
        "h = plt.hist(np.extract(~np.isnan(kascade_sapp_zenith),np.degrees(kascade_zenith - kascade_sapp_zenith)), bins=bins, histtype='step', label=r'Sapphire', linewidth=1.5, density=True)\n",
        "plt.legend()\n",
        "plt.xlabel(r'$\\theta_{sim} - \\theta_{NN}$') # wat moet hier staan?\n",
        "plt.ylabel('Occurence')\n",
        "plt.show()\n",
        "#plt.savefig('difference_zenith.pdf')\n",
        "\n",
        "plt.figure()\n",
        "bins = np.degrees(np.linspace(-np.pi, np.pi, 30))\n",
        "h = plt.hist(np.degrees(kascade_azimuth - kascade_pred_azimuth), bins=bins, histtype='step', label=r'Neural network', linewidth=1.5, density=True)\n",
        "#print(np.std(np.degrees(a_true - azimuth)))\n",
        "h = plt.hist(np.extract(~np.isnan(kascade_sapp_azimuth),np.degrees(kascade_azimuth - kascade_sapp_azimuth)), bins=bins, histtype='step', label=r'Sapphire', linewidth=1.5, density=True)\n",
        "plt.legend()\n",
        "plt.xlabel(r'$\\phi_{sim} - \\phi_{NN}$') # wat moet hier staan?\n",
        "plt.ylabel('Occurence')\n",
        "plt.show()\n",
        "#plt.savefig('difference_zenith.pdf')\n",
        "\n"
      ],
      "execution_count": 0,
      "outputs": []
    },
    {
      "metadata": {
        "id": "Z8FoNSKF-Bfu",
        "colab_type": "code",
        "colab": {}
      },
      "cell_type": "code",
      "source": [
        "from scipy import stats\n",
        "from itertools import tee\n",
        "\n",
        "\n",
        "def transform_error(dist, bins):\n",
        "  to_return = dist/(2*np.pi*(np.sin(bins)))\n",
        "  return to_return\n",
        "def middle_of_bins(bins):\n",
        "  bins += (bins[1]-bins[0])/2\n",
        "  return bins[:-1]\n",
        "\n",
        "\n",
        "plt.figure()\n",
        "\n",
        "a = angle_between_two_vectors(kascade_sapphire_reconstruction, kascade_labels[:])\n",
        "non_reconstructed = np.isnan(a)\n",
        "\n",
        "\n",
        "bins = np.linspace(0, 60, 60)\n",
        "middle_bins = bins.copy()\n",
        "middle_bins = middle_of_bins(middle_bins)\n",
        "a = angle_between_two_vectors(kascade_prediction, kascade_labels[:])\n",
        "\n",
        "\n",
        "\n",
        "h, b = np.histogram(a, bins=bins)\n",
        "h = transform_error(h,np.radians(middle_bins))\n",
        "\n",
        "#plt.bar(b[:-1], h, width=width_bin, label='Neural network')\n",
        "\n",
        "new_a = []\n",
        "for i, b in enumerate(middle_bins):\n",
        "  for _ in range(int(h[i])):\n",
        "    new_a.append(b)\n",
        "\n",
        "\n",
        "sixtyeight = new_a[np.argsort(new_a)[int(len(new_a)*.68)]]\n",
        "\n",
        "h = h / np.sum(h)\n",
        "plt.step(bins, np.insert(h,0,0), label='NN, 68th percentile: {0:.2f}'.format(sixtyeight))\n",
        "\n",
        "a = angle_between_two_vectors(kascade_prediction, kascade_labels[:])\n",
        "\n",
        "h, b = np.histogram(a, bins=bins)\n",
        "h = transform_error(h, np.radians(middle_bins))\n",
        "h = h / np.sum(h)\n",
        "#plt.bar(b[:-1], h, width=width_bin, label='Neural network')\n",
        "\n",
        "\n",
        "fwhm = middle_bins[h<np.max(h)/2][0]\n",
        "\n",
        "print('fwhm of nn with only events sapphire  could not reconstruct %s' % fwhm)\n",
        "a = angle_between_two_vectors(kascade_prediction[~non_reconstructed], kascade_labels[:][~non_reconstructed])\n",
        "\n",
        "#a = a[~non_reconstructed]\n",
        "h, b = np.histogram(a, bins=bins)\n",
        "h = transform_error(h, np.radians(middle_bins))\n",
        "#plt.bar(b[:-1], h, width=width_bin, label='Neural network')\n",
        "\n",
        "new_a = []\n",
        "for i, b in enumerate(middle_bins):\n",
        "  for _ in range(int(h[i])):\n",
        "    new_a.append(b)\n",
        "\n",
        "\n",
        "sixtyeight = new_a[np.argsort(new_a)[int(len(new_a)*.68)]]\n",
        "\n",
        "h = h / np.sum(h)\n",
        "\n",
        "print('fwhm of nn with only events sapphire  could actually reconstruct %s' % fwhm)\n",
        "#plt.step(bins, np.insert(h,0,0), label='NN, 68th percentile: {0:.2f}'.format(sixtyeight))\n",
        "plt.plot(middle_bins, h, '*', label='NN, same events as sapphire, \\n68th percentile: {0:.2f}'.format(sixtyeight))\n",
        "#plt.step(bins, np.insert(h,0,0), label='Neural network, events nonreconstructed FWHM: {0:.2f}'.format(fwhm))\n",
        "\n",
        "\n",
        "a = angle_between_two_vectors(kascade_sapphire_reconstruction, kascade_labels[:])\n",
        "\n",
        "\n",
        "\n",
        "print(np.count_nonzero(np.isnan(a)))\n",
        "print('total: %s' % len(a))\n",
        "a = np.compress(~np.isnan(a), a)\n",
        "\n",
        "\n",
        "\n",
        "h, b = np.histogram(a, bins=bins)\n",
        "h = transform_error(h,np.radians(middle_bins))\n",
        "new_a = []\n",
        "for i, b in enumerate(middle_bins):\n",
        "  for _ in range(int(h[i])):\n",
        "    new_a.append(b)\n",
        "\n",
        "\n",
        "sixtyeight = new_a[np.argsort(new_a)[int(len(new_a)*.68)]]\n",
        "\n",
        "h = h / np.sum(h)\n",
        "#plt.bar(b[:-1], h, width=(b[1]-b[0]), label='Sapphire')\n",
        "plt.step(bins, np.insert(h,0,0), label='Sapphire, 68th percentile: {0:.2f}'.format(sixtyeight))\n",
        "plt.legend()\n",
        "plt.xlabel(r'$\\delta (\\degree)$')\n",
        "plt.ylabel(r'$N(\\delta)$')\n",
        "\n"
      ],
      "execution_count": 0,
      "outputs": []
    },
    {
      "metadata": {
        "id": "w9BF3fdeaBux",
        "colab_type": "code",
        "colab": {}
      },
      "cell_type": "code",
      "source": [
        "from itertools import tee\n",
        "\n",
        "def pairwise(iterable):\n",
        "    \"s -> (s0,s1), (s1,s2), (s2, s3), ...\"\n",
        "    a, b = tee(iterable)\n",
        "    next(b, None)\n",
        "    return zip(a, b)\n",
        "\n",
        "zenith_angles = np.linspace(5, 28, 20)\n",
        "fwhm_per_zenith = []\n",
        "fwhm_zeniths = []\n",
        "fwhm_std = []\n",
        "for z1, z2 in pairwise(np.radians(zenith_angles)):\n",
        "  idx = (kascade_zenith>=z1) & (kascade_zenith < z2)\n",
        "\n",
        "  bins = np.linspace(0, 40, 30)\n",
        "  middle_bins = bins.copy()\n",
        "  middle_bins = middle_of_bins(middle_bins)\n",
        "  a = angle_between_two_vectors(kascade_prediction[idx], kascade_labels[:][idx])\n",
        "\n",
        "\n",
        "  h, b = np.histogram(a, bins=bins)\n",
        "  h = transform_error(h,np.radians(middle_bins))\n",
        "  h = h / np.sum(h)\n",
        "  if np.count_nonzero(h<np.max(h)/2) == 0:\n",
        "    continue\n",
        "  fwhm = middle_bins[h<np.max(h)/2][0]\n",
        "  print(fwhm)\n",
        "  #plt.figure()\n",
        "  plt.step(bins, np.insert(h,0,0), label=np.degrees(.5*(z2+z1)))#'Neural network, FWHM: {0:.2f}'.format(fwhm))\n",
        "  fwhm_per_zenith.append(fwhm)\n",
        "  fwhm_zeniths.append(.5*(z2+z1))\n",
        "  fwhm_std.append(fwhm/np.sqrt(len(a)))\n",
        "  print(len(a))\n",
        "plt.legend()\n",
        "plt.figure()\n",
        "plt.errorbar(np.degrees(fwhm_zeniths), fwhm_per_zenith, yerr=fwhm_std, )"
      ],
      "execution_count": 0,
      "outputs": []
    }
  ]
}